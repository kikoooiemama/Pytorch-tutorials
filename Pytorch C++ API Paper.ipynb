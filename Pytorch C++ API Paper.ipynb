{
 "cells": [
  {
   "cell_type": "markdown",
   "id": "1088fc73",
   "metadata": {},
   "source": [
    "# Pytorch C++ API"
   ]
  },
  {
   "cell_type": "markdown",
   "id": "ecaee2d0",
   "metadata": {},
   "source": [
    "https://pytorch.org/cppdocs/"
   ]
  },
  {
   "cell_type": "markdown",
   "id": "0023b56f",
   "metadata": {},
   "source": [
    "PyTorch C++ API можно условно разделить на пять частей:\n",
    "\n",
    "1. __ATen:__ основная библиотека тензорных и математических операций, на которой построено все остальное.\n",
    "\n",
    "2. __Autograd:__ дополняет ATen автоматическим дифференцированием.\n",
    "\n",
    "3. __C++ Frontend:__ конструкции высокого уровня для обучения и оценки моделей машинного обучения.\n",
    "\n",
    "4. __TorchScript:__ интерфейс для JIT-компилятора и интерпретатора TorchScript.\n",
    "\n",
    "5. __C++ Extensions:__ средство расширения API Python с помощью пользовательских подпрограмм C++ и CUDA."
   ]
  },
  {
   "cell_type": "markdown",
   "id": "ca85005a",
   "metadata": {},
   "source": [
    "## ATen"
   ]
  },
  {
   "cell_type": "markdown",
   "id": "dd8362e8",
   "metadata": {},
   "source": [
    "ATen — это, по сути, тензорная библиотека, поверх которой построены почти все другие интерфейсы Python и C++ в PyTorch. Он предоставляет базовый класс `Tensor`, в котором определены многие сотни операций. Большинство этих операций реализуются как на CPU, так и на GPU, которым класс `Tensor` динамически отправляет данные в зависимости от их типа. Небольшой пример использования ATen может выглядеть следующим образом:"
   ]
  },
  {
   "cell_type": "markdown",
   "id": "3699778c",
   "metadata": {},
   "source": [
    "```\n",
    "#include <ATen/ATen.h>\n",
    "\n",
    "at::Tensor a = at::ones({2, 2}, at::kInt);\n",
    "at::Tensor b = at::randn({2, 2});\n",
    "auto c = a + b.to(at::kInt);\n",
    "```"
   ]
  },
  {
   "cell_type": "markdown",
   "id": "98179082",
   "metadata": {},
   "source": [
    "Этот класс `Tensor` и все другие символы в ATen находятся в пространстве имен `at::`, задокументированном [здесь](https://pytorch.org/cppdocs/api/namespace_at.html#namespace-at)."
   ]
  },
  {
   "cell_type": "markdown",
   "id": "aa7fa198",
   "metadata": {},
   "source": [
    "## Autograd"
   ]
  },
  {
   "cell_type": "code",
   "execution_count": null,
   "id": "d8dc9174",
   "metadata": {},
   "outputs": [],
   "source": []
  },
  {
   "cell_type": "code",
   "execution_count": null,
   "id": "915b7b25",
   "metadata": {},
   "outputs": [],
   "source": []
  },
  {
   "cell_type": "markdown",
   "id": "3551a129",
   "metadata": {},
   "source": [
    "```\n",
    "#include <torch/csrc/autograd/variable.h>\n",
    "#include <torch/csrc/autograd/function.h>\n",
    "\n",
    "torch::Tensor a = torch::ones({2, 2}, torch::requires_grad());\n",
    "torch::Tensor b = torch::randn({2, 2});\n",
    "auto c = a + b;\n",
    "c.backward(); // a.grad() will now hold the gradient of c w.r.t. a.\n",
    "```"
   ]
  },
  {
   "cell_type": "code",
   "execution_count": null,
   "id": "56de766e",
   "metadata": {},
   "outputs": [],
   "source": []
  },
  {
   "cell_type": "code",
   "execution_count": 1,
   "id": "26336c8d",
   "metadata": {},
   "outputs": [],
   "source": [
    "import torch"
   ]
  },
  {
   "cell_type": "code",
   "execution_count": null,
   "id": "2b881d26",
   "metadata": {},
   "outputs": [],
   "source": [
    "torch.ones((2,2), req)"
   ]
  },
  {
   "cell_type": "code",
   "execution_count": null,
   "id": "f44d1e59",
   "metadata": {},
   "outputs": [],
   "source": []
  },
  {
   "cell_type": "markdown",
   "id": "7c8254b0",
   "metadata": {},
   "source": [
    "Класс `at::Tensor` в ATen по умолчанию не дифференцируем. Чтобы добавить дифференцируемость тензоров, которые предоставляет Autograd API, вы должны использовать тензорные фабричные функции из пространства имен `torch::` вместо пространства имен `at::`. Например, хотя тензор, созданный с помощью `at::ones`, не будет дифференцируемым, тензор, созданный с помощью `torch::ones`, будет."
   ]
  },
  {
   "cell_type": "markdown",
   "id": "955dbe4f",
   "metadata": {},
   "source": [
    "## C++ Frontend"
   ]
  },
  {
   "cell_type": "markdown",
   "id": "04880345",
   "metadata": {},
   "source": [
    "## Torchscript"
   ]
  },
  {
   "cell_type": "markdown",
   "id": "121eb5f5",
   "metadata": {},
   "source": [
    "TorchScript — это представление модели PyTorch, которое может быть понято, скомпилировано и сериализовано компилятором TorchScript. По сути, TorchScript — это самостоятельный язык программирования. Это подмножество Python, использующее API PyTorch. Интерфейс C++ для TorchScript включает в себя три основные функции:\n",
    "\n",
    "* Механизм загрузки и выполнения сериализованных моделей TorchScript, определенных в Python;\n",
    "\n",
    "* API для определения пользовательских операторов, расширяющих стандартную библиотеку операций TorchScript;\n",
    "\n",
    "* Своевременная компиляция программ TorchScript из C++.\n",
    "\n",
    "Первый механизм может представлять для вас большой интерес, если вы хотите максимально полно определить свои модели на Python, \n",
    "но впоследствии экспортировать их в C++ для производственных сред и вывода без использования Python. \n",
    "Подробнее об этом вы можете узнать, перейдя по этой ссылке:  https://pytorch.org/tutorials/advanced/cpp_export.html\n",
    "\n",
    "\n",
    "Второй API касается сценариев, в которых вы хотели бы расширить \n",
    "TorchScript пользовательскими операторами, которые можно аналогичным образом сериализовать и вызывать из C++ во время \n",
    "логического вывода. Наконец, функция torch::jit::compile может использоваться для доступа к компилятору TorchScript непосредственно из C++."
   ]
  },
  {
   "cell_type": "markdown",
   "id": "29dbf086",
   "metadata": {},
   "source": [
    "* The Torch Script reference: https://pytorch.org/docs/master/jit.html\n",
    "* The PyTorch C++ API documentation: https://pytorch.org/cppdocs/\n",
    "* The PyTorch Python API documentation: https://pytorch.org/docs/"
   ]
  },
  {
   "cell_type": "markdown",
   "id": "cd137eb5",
   "metadata": {},
   "source": [
    "### Loading a TorchScript Model in C++"
   ]
  },
  {
   "cell_type": "markdown",
   "id": "232b1a31",
   "metadata": {},
   "source": [
    "#### Step 1: Converting Your PyTorch Model to Torch Script"
   ]
  },
  {
   "cell_type": "code",
   "execution_count": null,
   "id": "97b97bb4",
   "metadata": {},
   "outputs": [],
   "source": []
  },
  {
   "cell_type": "code",
   "execution_count": null,
   "id": "0ab3d62b",
   "metadata": {},
   "outputs": [],
   "source": []
  },
  {
   "cell_type": "markdown",
   "id": "cdda400f",
   "metadata": {},
   "source": [
    "#### Step 2: Serializing Your Script Module to a File"
   ]
  },
  {
   "cell_type": "code",
   "execution_count": null,
   "id": "653ca805",
   "metadata": {},
   "outputs": [],
   "source": []
  },
  {
   "cell_type": "code",
   "execution_count": null,
   "id": "430b09cf",
   "metadata": {},
   "outputs": [],
   "source": []
  },
  {
   "cell_type": "markdown",
   "id": "0ba0a21e",
   "metadata": {},
   "source": [
    "#### Step 3: Loading Your Script Module in C++"
   ]
  },
  {
   "cell_type": "code",
   "execution_count": null,
   "id": "42fd47e0",
   "metadata": {},
   "outputs": [],
   "source": []
  },
  {
   "cell_type": "code",
   "execution_count": null,
   "id": "fe674ecd",
   "metadata": {},
   "outputs": [],
   "source": []
  },
  {
   "cell_type": "markdown",
   "id": "67523319",
   "metadata": {},
   "source": [
    "#### Step 4: Executing the Script Module in C++"
   ]
  },
  {
   "cell_type": "code",
   "execution_count": null,
   "id": "e93a19e6",
   "metadata": {},
   "outputs": [],
   "source": []
  },
  {
   "cell_type": "code",
   "execution_count": null,
   "id": "76e8a8dd",
   "metadata": {},
   "outputs": [],
   "source": []
  },
  {
   "cell_type": "markdown",
   "id": "d99cd79a",
   "metadata": {},
   "source": [
    "#### Step 5: Getting Help and Exploring the API"
   ]
  },
  {
   "cell_type": "code",
   "execution_count": null,
   "id": "089acc1f",
   "metadata": {},
   "outputs": [],
   "source": []
  },
  {
   "cell_type": "markdown",
   "id": "8abae836",
   "metadata": {},
   "source": []
  },
  {
   "cell_type": "markdown",
   "id": "f5174200",
   "metadata": {},
   "source": [
    "## C++ Extensions"
   ]
  },
  {
   "cell_type": "code",
   "execution_count": null,
   "id": "a32be4cd",
   "metadata": {},
   "outputs": [],
   "source": []
  },
  {
   "cell_type": "code",
   "execution_count": null,
   "id": "037f3e99",
   "metadata": {},
   "outputs": [],
   "source": []
  },
  {
   "cell_type": "code",
   "execution_count": null,
   "id": "c975e30e",
   "metadata": {},
   "outputs": [],
   "source": []
  }
 ],
 "metadata": {
  "kernelspec": {
   "display_name": "Python 3 (ipykernel)",
   "language": "python",
   "name": "python3"
  },
  "language_info": {
   "codemirror_mode": {
    "name": "ipython",
    "version": 3
   },
   "file_extension": ".py",
   "mimetype": "text/x-python",
   "name": "python",
   "nbconvert_exporter": "python",
   "pygments_lexer": "ipython3",
   "version": "3.9.12"
  }
 },
 "nbformat": 4,
 "nbformat_minor": 5
}
