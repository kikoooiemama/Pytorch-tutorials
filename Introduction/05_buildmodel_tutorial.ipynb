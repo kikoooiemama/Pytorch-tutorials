{
 "cells": [
  {
   "cell_type": "markdown",
   "metadata": {},
   "source": [
    "Построение модели нейронной сети\n",
    "===================\n",
    "\n",
    "Нейронные сети состоят из слоев/модулей, которые выполняют операции с данными.\n",
    "\n",
    "Пространство имен `torch.nn` https://pytorch.org/docs/stable/nn.html из библиотеки `torch` содержит всё необходимое для того, чтобы построить свою нейронную сеть.\n",
    "\n",
    "Каждый модуль в Pytorch является подклассом `nn.Module` https://pytorch.org/docs/stable/generated/torch.nn.Module.html\n",
    "\n",
    "\n",
    "Нейронная сеть - это сам module, состоящий из других модулей (слоев). Такая вложенная структура позволяет легко создавать сложные архитектуры и управлять ими. \n",
    "\n",
    "В следующих разделах мы построим нейронную сеть для классификации изображений в датасете FashionMNIST."
   ]
  },
  {
   "cell_type": "code",
   "execution_count": 4,
   "metadata": {},
   "outputs": [],
   "source": [
    "import os\n",
    "import torch\n",
    "from torch import nn\n",
    "from torch.utils.data import DataLoader\n",
    "from torchvision import datasets, transforms"
   ]
  },
  {
   "cell_type": "markdown",
   "metadata": {},
   "source": [
    "Выбор устройства \n",
    "-----------------------\n",
    "\n",
    "Мы хотим иметь возможность обучать нашу модель на аппаратном ускорителе, таком как GPU, если он доступен."
   ]
  },
  {
   "cell_type": "code",
   "execution_count": 5,
   "metadata": {},
   "outputs": [
    {
     "name": "stdout",
     "output_type": "stream",
     "text": [
      "Using cuda device\n"
     ]
    }
   ],
   "source": [
    "device = \"cuda\" if torch.cuda.is_available() else \"cpu\"\n",
    "print(f\"Using {device} device\")"
   ]
  },
  {
   "cell_type": "markdown",
   "metadata": {},
   "source": [
    "Определение класса\n",
    "-------------------------\n",
    "Мы определяем нашу нейронную сеть путем наследования от класса `nn.Module` и инициализируем слои нейронной сети в `__init__`. Каждый потом класса `nn.Module` реализует операции над входными данными в методе `forward`."
   ]
  },
  {
   "cell_type": "code",
   "execution_count": 6,
   "metadata": {},
   "outputs": [],
   "source": [
    "class NeuralNetwork(nn.Module):\n",
    "    def __init__(self):\n",
    "        super(NeuralNetwork, self).__init__()\n",
    "        self.flatten = nn.Flatten()\n",
    "        self.linear_relu_stack = nn.Sequential(\n",
    "            nn.Linear(28*28, 512),\n",
    "            nn.ReLU(),\n",
    "            nn.Linear(512, 512),\n",
    "            nn.ReLU(),\n",
    "            nn.Linear(512, 10),\n",
    "        )\n",
    "\n",
    "    def forward(self, x):\n",
    "        x = self.flatten(x)\n",
    "        logits = self.linear_relu_stack(x)\n",
    "        return logits"
   ]
  },
  {
   "cell_type": "markdown",
   "metadata": {},
   "source": [
    "Мы создаем экземпляр класса `Neuralnetwork`, перемещаем его на GPU и распечатываем структуру сети."
   ]
  },
  {
   "cell_type": "code",
   "execution_count": 7,
   "metadata": {},
   "outputs": [
    {
     "name": "stdout",
     "output_type": "stream",
     "text": [
      "NeuralNetwork(\n",
      "  (flatten): Flatten(start_dim=1, end_dim=-1)\n",
      "  (linear_relu_stack): Sequential(\n",
      "    (0): Linear(in_features=784, out_features=512, bias=True)\n",
      "    (1): ReLU()\n",
      "    (2): Linear(in_features=512, out_features=512, bias=True)\n",
      "    (3): ReLU()\n",
      "    (4): Linear(in_features=512, out_features=10, bias=True)\n",
      "  )\n",
      ")\n"
     ]
    }
   ],
   "source": [
    "model = NeuralNetwork().to(device)\n",
    "print(model)"
   ]
  },
  {
   "cell_type": "markdown",
   "metadata": {},
   "source": [
    "Чтобы использовать модель, мы передаем ей входные данные. Это действие запускает функцию ``forward`` вместе с некоторыми фоновыми операциями. Подробнее здесь: https://github.com/pytorch/pytorch/blob/270111b7b611d174967ed204776985cefca9c144/torch/nn/modules/module.py#L866\n",
    "\n",
    "Не нужно вызывать ``model.forward()`` напрямую!\n",
    "\n",
    "На выходе возвращает 10-мерный тензор с необработанными предсказанными значениями для каждого класса.\n",
    "\n",
    "Мы получаем вероятности предсказания, пропуская их через экземпляр модуля ``nn.Softmax``.\n"
   ]
  },
  {
   "cell_type": "code",
   "execution_count": 8,
   "metadata": {},
   "outputs": [
    {
     "data": {
      "text/plain": [
       "tensor([[ 0.0232,  0.0358, -0.0801, -0.0514, -0.0151,  0.0626,  0.0246,  0.0219,\n",
       "         -0.0701, -0.0494]], device='cuda:0', grad_fn=<AddmmBackward>)"
      ]
     },
     "execution_count": 8,
     "metadata": {},
     "output_type": "execute_result"
    }
   ],
   "source": [
    "# картинка\n",
    "X = torch.rand(1, 28, 28, device=device)\n",
    "# загрузили картинку в модель и получили предсказания по каждому классу\n",
    "logits = model(X)\n",
    "logits"
   ]
  },
  {
   "cell_type": "code",
   "execution_count": 9,
   "metadata": {},
   "outputs": [
    {
     "data": {
      "text/plain": [
       "tensor([[0.1032, 0.1046, 0.0931, 0.0958, 0.0994, 0.1074, 0.1034, 0.1031, 0.0940,\n",
       "         0.0960]], device='cuda:0', grad_fn=<SoftmaxBackward>)"
      ]
     },
     "execution_count": 9,
     "metadata": {},
     "output_type": "execute_result"
    }
   ],
   "source": [
    "pred_probab = nn.Softmax(dim=1)(logits)\n",
    "pred_probab"
   ]
  },
  {
   "cell_type": "code",
   "execution_count": 10,
   "metadata": {},
   "outputs": [
    {
     "data": {
      "text/plain": [
       "tensor(1., device='cuda:0', grad_fn=<SumBackward0>)"
      ]
     },
     "execution_count": 10,
     "metadata": {},
     "output_type": "execute_result"
    }
   ],
   "source": [
    "pred_probab.sum()"
   ]
  },
  {
   "cell_type": "code",
   "execution_count": 11,
   "metadata": {},
   "outputs": [
    {
     "name": "stdout",
     "output_type": "stream",
     "text": [
      "Predicted class: 5\n"
     ]
    }
   ],
   "source": [
    "y_pred = pred_probab.argmax(1)\n",
    "print(f\"Predicted class: {y_pred[0]}\")"
   ]
  },
  {
   "cell_type": "markdown",
   "metadata": {},
   "source": [
    "--------------\n",
    "\n",
    "\n"
   ]
  },
  {
   "cell_type": "markdown",
   "metadata": {},
   "source": [
    "Слои модели нейронной сети\n",
    "-------------------------\n",
    "\n",
    "Давайте разберем слои в модели FashionMNIST. Чтобы проиллюстрировать это, мы возьмем батч из 3 изображений размером 28х28 и посмотрим, что с ним произойдет, когда мы пропустим его через сетку."
   ]
  },
  {
   "cell_type": "code",
   "execution_count": 12,
   "metadata": {},
   "outputs": [
    {
     "name": "stdout",
     "output_type": "stream",
     "text": [
      "torch.Size([3, 28, 28])\n"
     ]
    }
   ],
   "source": [
    "input_image_batch = torch.rand(3,28,28)\n",
    "print(input_image_batch.size())"
   ]
  },
  {
   "cell_type": "markdown",
   "metadata": {},
   "source": [
    "#### 1. nn.Flatten() \n",
    "\n",
    "https://pytorch.org/docs/stable/generated/torch.nn.Flatten.html\n",
    "\n",
    "We initialize the `nn.Flatten  <https://pytorch.org/docs/stable/generated/torch.nn.Flatten.html>`_\n",
    "layer to convert each 2D 28x28 image into a contiguous array of 784 pixel values (\n",
    "the minibatch dimension (at dim=0) is maintained).\n",
    "\n",
    "Мы инициализируем слой `nn.Flatten` для преобразования каждого 2D-изображения 28х28 в непрерывный массив из 784 значений пикселей (батч размер при dim=0 сохраняется)\n",
    "\n",
    "$$28 \\cdot 28 = 784$$"
   ]
  },
  {
   "cell_type": "code",
   "execution_count": 14,
   "metadata": {
    "scrolled": true
   },
   "outputs": [
    {
     "name": "stdout",
     "output_type": "stream",
     "text": [
      "torch.Size([3, 784])\n"
     ]
    }
   ],
   "source": [
    "flatten = nn.Flatten()\n",
    "flat_image_batch = flatten(input_image_batch)\n",
    "print(flat_image_batch.size())"
   ]
  },
  {
   "cell_type": "markdown",
   "metadata": {},
   "source": [
    "#### 2. nn.Linear() \n",
    "\n",
    "https://pytorch.org/docs/stable/generated/torch.nn.Linear.html\n",
    "\n",
    "`linear layer` - это модуль, который применяет линейное преобразование к входным данным (), используя сохраненные веса и смещения."
   ]
  },
  {
   "cell_type": "code",
   "execution_count": 17,
   "metadata": {
    "scrolled": true
   },
   "outputs": [
    {
     "name": "stdout",
     "output_type": "stream",
     "text": [
      "torch.Size([3, 20])\n",
      "tensor([[ 0.3665,  0.0361,  0.0930,  0.2152,  0.0112,  0.1880,  0.2241, -0.2491,\n",
      "         -0.6050, -0.1149,  0.0077, -0.1558, -0.5064, -0.2857, -0.2840, -0.3226,\n",
      "          0.0915,  0.8398, -0.4459, -0.1764],\n",
      "        [ 0.4147, -0.0458,  0.2696,  0.2572,  0.4085, -0.1462,  0.2459, -0.1277,\n",
      "         -0.6242, -0.1008,  0.4359, -0.0393, -0.6298, -0.2026, -0.0579, -0.1220,\n",
      "         -0.1433,  0.6212, -0.2644, -0.2427],\n",
      "        [ 0.1642, -0.4136,  0.2468,  0.5216, -0.1032,  0.0945,  0.7037,  0.0044,\n",
      "         -0.9589,  0.1309,  0.2551,  0.2022, -0.5262, -0.4445, -0.3528, -0.4342,\n",
      "         -0.1213,  1.0457, -0.3880, -0.2877]], grad_fn=<AddmmBackward>)\n"
     ]
    }
   ],
   "source": [
    "layer_one = nn.Linear(in_features=28*28, out_features=20)\n",
    "hidden_one = layer_one(flat_image_batch)\n",
    "print(hidden_one.size())\n",
    "print(hidden_one)"
   ]
  },
  {
   "cell_type": "markdown",
   "metadata": {},
   "source": [
    "#### 3. nn.ReLU()\n",
    "\n",
    "https://pytorch.org/docs/stable/generated/torch.nn.ReLU.html\n",
    "\n",
    "Нелинейные активации создают сложные сопоставления между входными и выходными данными модели. Они применяются после линейных преобразований для введения *нелинейности*, помогая нейронным сетям изучать широкий спектр явлений.\n",
    "\n",
    "В данной модели мы используем `nn.ReLU()` между линейными слоями, но есть и другие активации для внесения нелинейности в нашу модель."
   ]
  },
  {
   "cell_type": "code",
   "execution_count": 19,
   "metadata": {
    "scrolled": true
   },
   "outputs": [
    {
     "name": "stdout",
     "output_type": "stream",
     "text": [
      "Before ReLU: tensor([[ 0.3665,  0.0361,  0.0930,  0.2152,  0.0112,  0.1880,  0.2241, -0.2491,\n",
      "         -0.6050, -0.1149,  0.0077, -0.1558, -0.5064, -0.2857, -0.2840, -0.3226,\n",
      "          0.0915,  0.8398, -0.4459, -0.1764],\n",
      "        [ 0.4147, -0.0458,  0.2696,  0.2572,  0.4085, -0.1462,  0.2459, -0.1277,\n",
      "         -0.6242, -0.1008,  0.4359, -0.0393, -0.6298, -0.2026, -0.0579, -0.1220,\n",
      "         -0.1433,  0.6212, -0.2644, -0.2427],\n",
      "        [ 0.1642, -0.4136,  0.2468,  0.5216, -0.1032,  0.0945,  0.7037,  0.0044,\n",
      "         -0.9589,  0.1309,  0.2551,  0.2022, -0.5262, -0.4445, -0.3528, -0.4342,\n",
      "         -0.1213,  1.0457, -0.3880, -0.2877]], grad_fn=<AddmmBackward>)\n",
      "\n",
      "\n",
      "After ReLU: tensor([[0.3665, 0.0361, 0.0930, 0.2152, 0.0112, 0.1880, 0.2241, 0.0000, 0.0000,\n",
      "         0.0000, 0.0077, 0.0000, 0.0000, 0.0000, 0.0000, 0.0000, 0.0915, 0.8398,\n",
      "         0.0000, 0.0000],\n",
      "        [0.4147, 0.0000, 0.2696, 0.2572, 0.4085, 0.0000, 0.2459, 0.0000, 0.0000,\n",
      "         0.0000, 0.4359, 0.0000, 0.0000, 0.0000, 0.0000, 0.0000, 0.0000, 0.6212,\n",
      "         0.0000, 0.0000],\n",
      "        [0.1642, 0.0000, 0.2468, 0.5216, 0.0000, 0.0945, 0.7037, 0.0044, 0.0000,\n",
      "         0.1309, 0.2551, 0.2022, 0.0000, 0.0000, 0.0000, 0.0000, 0.0000, 1.0457,\n",
      "         0.0000, 0.0000]], grad_fn=<ReluBackward0>)\n"
     ]
    }
   ],
   "source": [
    "print(f\"Before ReLU: {hidden_one}\\n\\n\")\n",
    "hidden_one = nn.ReLU()(hidden_one)\n",
    "print(f\"After ReLU: {hidden_one}\")"
   ]
  },
  {
   "cell_type": "markdown",
   "metadata": {},
   "source": [
    "#### 4. nn.Sequential()\n",
    "\n",
    "https://pytorch.org/docs/stable/generated/torch.nn.Sequential.html\n",
    "\n",
    "`nn.Sequential` - это упорядоченный контейнер модулей. Данные проходят через все модули (слои) в том порядке, в котором они определены. Вы можете использовать последовательные контейнеры для создания быстрой сети, такой как ``seq_modules``"
   ]
  },
  {
   "cell_type": "code",
   "execution_count": 23,
   "metadata": {
    "scrolled": true
   },
   "outputs": [
    {
     "data": {
      "text/plain": [
       "tensor([[-9.2316e-02,  1.4551e-01,  1.8266e-01, -2.1296e-01,  2.4451e-01,\n",
       "         -1.1371e-01, -1.5631e-04, -2.2041e-02,  1.1919e-01,  1.1718e-02],\n",
       "        [-4.9443e-02,  1.0962e-01,  1.1151e-01, -1.3771e-01,  2.0328e-01,\n",
       "         -1.7800e-01, -1.4323e-01,  6.6048e-02,  6.1901e-02,  4.9397e-02],\n",
       "        [-2.0679e-01,  7.8264e-02,  6.9283e-02,  6.9746e-04,  5.1431e-02,\n",
       "         -2.9739e-01, -1.8378e-01,  1.3752e-01,  9.2133e-02, -5.1897e-02]],\n",
       "       grad_fn=<AddmmBackward>)"
      ]
     },
     "execution_count": 23,
     "metadata": {},
     "output_type": "execute_result"
    }
   ],
   "source": [
    "seq_modules = nn.Sequential(\n",
    "    flatten, \n",
    "    layer_one,\n",
    "    nn.ReLU(),\n",
    "    nn.Linear(20, 10)\n",
    ")\n",
    "input_image = torch.rand(3, 28, 28)\n",
    "logits = seq_modules(input_image)\n",
    "logits"
   ]
  },
  {
   "cell_type": "markdown",
   "metadata": {},
   "source": [
    "#### 5. nn.Softmax()\n",
    "\n",
    "https://pytorch.org/docs/stable/generated/torch.nn.Softmax.html\n",
    "\n",
    "Последний линейный слой нейронной сети возвращает `logits` - необработанные значения в диапазоне $(-\\infty; +\\infty)$ передаются в `nn.Softmax()`. Что это значит?\n",
    "\n",
    "`logits` масштабируются к значениям $[0; 1]$, которые будут представлять предсказания модели для каждого класса в виде вероятности. Если сложить все значения, то должна получаться $1$. Параметр `dim` указывает измерение, по которому сумма значений должна равняться единице."
   ]
  },
  {
   "cell_type": "code",
   "execution_count": 25,
   "metadata": {
    "scrolled": false
   },
   "outputs": [
    {
     "data": {
      "text/plain": [
       "tensor([[0.0880, 0.1116, 0.1158, 0.0780, 0.1232, 0.0861, 0.0965, 0.0944, 0.1087,\n",
       "         0.0976],\n",
       "        [0.0936, 0.1097, 0.1099, 0.0857, 0.1205, 0.0823, 0.0852, 0.1051, 0.1046,\n",
       "         0.1033],\n",
       "        [0.0831, 0.1105, 0.1095, 0.1022, 0.1076, 0.0759, 0.0850, 0.1172, 0.1120,\n",
       "         0.0970]], grad_fn=<SoftmaxBackward>)"
      ]
     },
     "execution_count": 25,
     "metadata": {},
     "output_type": "execute_result"
    }
   ],
   "source": [
    "softmax = nn.Softmax(dim=1)\n",
    "pred_probab = softmax(logits)\n",
    "pred_probab"
   ]
  },
  {
   "cell_type": "markdown",
   "metadata": {},
   "source": [
    "#### 6. Предсказание класса для каждой картинки в батче"
   ]
  },
  {
   "cell_type": "code",
   "execution_count": 28,
   "metadata": {},
   "outputs": [
    {
     "name": "stdout",
     "output_type": "stream",
     "text": [
      "Изображение №1, Предсказание: 4 класс\n",
      "Изображение №2, Предсказание: 4 класс\n",
      "Изображение №3, Предсказание: 7 класс\n"
     ]
    }
   ],
   "source": [
    "for i in range(3):\n",
    "    pred = pred_probab[i].argmax(0)\n",
    "    print(f\"Изображение №{i+1}, Предсказание: {pred} класс\")"
   ]
  },
  {
   "cell_type": "markdown",
   "metadata": {},
   "source": [
    "Параметры модели \n",
    "-------------------------\n",
    "\n",
    "Многие слои внутри нейронной сети *параметризованы*, то есть имеют связанные веса и смещения, которые оптимизируются во время обучения. \n",
    "\n",
    "Подкласс ``nn.Module`` автоматически отслеживает все поля, определенные внутри объекта вашей модели, и делает все параметры доступными с помощью методов вашей модели ``parameters()`` или ``named_parameters()``.\n",
    "\n",
    "\n",
    "В этом примере мы перебираем каждый параметр, затем печатаем его размер и предварительное значение."
   ]
  },
  {
   "cell_type": "code",
   "execution_count": 35,
   "metadata": {},
   "outputs": [
    {
     "name": "stdout",
     "output_type": "stream",
     "text": [
      "Model structure: NeuralNetwork(\n",
      "  (flatten): Flatten(start_dim=1, end_dim=-1)\n",
      "  (linear_relu_stack): Sequential(\n",
      "    (0): Linear(in_features=784, out_features=512, bias=True)\n",
      "    (1): ReLU()\n",
      "    (2): Linear(in_features=512, out_features=512, bias=True)\n",
      "    (3): ReLU()\n",
      "    (4): Linear(in_features=512, out_features=10, bias=True)\n",
      "  )\n",
      ")\n"
     ]
    }
   ],
   "source": [
    "print(f\"Model structure: {model}\")"
   ]
  },
  {
   "cell_type": "code",
   "execution_count": 36,
   "metadata": {},
   "outputs": [
    {
     "name": "stdout",
     "output_type": "stream",
     "text": [
      "Layer: linear_relu_stack.0.weight | Size: torch.Size([512, 784]) | Values : tensor([[-0.0197, -0.0017, -0.0034,  ...,  0.0045, -0.0024,  0.0304],\n",
      "        [ 0.0355,  0.0353,  0.0172,  ...,  0.0060,  0.0015,  0.0060]],\n",
      "       device='cuda:0', grad_fn=<SliceBackward>) \n",
      "\n",
      "Layer: linear_relu_stack.0.bias | Size: torch.Size([512]) | Values : tensor([-0.0025,  0.0193], device='cuda:0', grad_fn=<SliceBackward>) \n",
      "\n",
      "Layer: linear_relu_stack.2.weight | Size: torch.Size([512, 512]) | Values : tensor([[-0.0110,  0.0262, -0.0165,  ..., -0.0339,  0.0170,  0.0426],\n",
      "        [-0.0350, -0.0407,  0.0196,  ..., -0.0384,  0.0387, -0.0232]],\n",
      "       device='cuda:0', grad_fn=<SliceBackward>) \n",
      "\n",
      "Layer: linear_relu_stack.2.bias | Size: torch.Size([512]) | Values : tensor([0.0234, 0.0287], device='cuda:0', grad_fn=<SliceBackward>) \n",
      "\n",
      "Layer: linear_relu_stack.4.weight | Size: torch.Size([10, 512]) | Values : tensor([[ 0.0306,  0.0327,  0.0165,  ..., -0.0096, -0.0032, -0.0142],\n",
      "        [ 0.0235,  0.0324,  0.0161,  ..., -0.0369, -0.0194, -0.0181]],\n",
      "       device='cuda:0', grad_fn=<SliceBackward>) \n",
      "\n",
      "Layer: linear_relu_stack.4.bias | Size: torch.Size([10]) | Values : tensor([0.0145, 0.0275], device='cuda:0', grad_fn=<SliceBackward>) \n",
      "\n"
     ]
    }
   ],
   "source": [
    "for name, param in model.named_parameters():\n",
    "    print(f\"Layer: {name} | Size: {param.size()} | Values : {param[:2]} \\n\")"
   ]
  },
  {
   "cell_type": "markdown",
   "metadata": {},
   "source": [
    "--------------\n",
    "\n",
    "\n"
   ]
  },
  {
   "cell_type": "markdown",
   "metadata": {},
   "source": [
    "Дальнейшее чтение\n",
    "--------------\n",
    "- `torch.nn` API https://pytorch.org/docs/stable/nn.html\n",
    "\n"
   ]
  },
  {
   "cell_type": "markdown",
   "metadata": {},
   "source": [
    "---"
   ]
  }
 ],
 "metadata": {
  "kernelspec": {
   "display_name": "Python 3 (ipykernel)",
   "language": "python",
   "name": "python3"
  },
  "language_info": {
   "codemirror_mode": {
    "name": "ipython",
    "version": 3
   },
   "file_extension": ".py",
   "mimetype": "text/x-python",
   "name": "python",
   "nbconvert_exporter": "python",
   "pygments_lexer": "ipython3",
   "version": "3.9.12"
  }
 },
 "nbformat": 4,
 "nbformat_minor": 1
}
