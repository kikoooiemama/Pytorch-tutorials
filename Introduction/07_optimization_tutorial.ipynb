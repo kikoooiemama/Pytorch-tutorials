{
 "cells": [
  {
   "cell_type": "markdown",
   "metadata": {},
   "source": [
    "Оптимизация параметров (весов) модели\n",
    "===========================\n",
    "\n",
    "Теперь, когда у нас есть модель и данные, пришло время обучить, проверить и протестировать нашу модель, оптимизировав ее параметры на наших данных.\n",
    "\n",
    "Обучение модели - итеративный процесс; на каждой итерации (эпохе) модель делает прогноз о выходных данных, вычисляет ошибку своего прогноза (потери), вычисляет производную ошибки по всем параметрам (то что делает autograd) и оптимизирует параметры (веса) с помощью градиентного спуска (GD).\n",
    "\n",
    "Для более подробного ознакомления с этим процессом посмотрите видео про метод \"Обратного распространения ошибки\" от `3Blue1Brown` https://www.youtube.com/watch?v=tIeHLnjs5U8\n",
    "\n",
    "\n",
    "Код загрузки данных и построения модели\n",
    "-----------------\n",
    "Мы используем код из предыдущих разделов (data, build_model)."
   ]
  },
  {
   "cell_type": "code",
   "execution_count": 1,
   "metadata": {},
   "outputs": [],
   "source": [
    "import torch\n",
    "from torch import nn\n",
    "from torch.utils.data import DataLoader\n",
    "from torchvision import datasets\n",
    "from torchvision.transforms import ToTensor, Lambda"
   ]
  },
  {
   "cell_type": "code",
   "execution_count": 2,
   "metadata": {},
   "outputs": [
    {
     "data": {
      "text/plain": [
       "NeuralNetwork(\n",
       "  (flatten): Flatten(start_dim=1, end_dim=-1)\n",
       "  (linear_relu_stack): Sequential(\n",
       "    (0): Linear(in_features=784, out_features=512, bias=True)\n",
       "    (1): ReLU()\n",
       "    (2): Linear(in_features=512, out_features=512, bias=True)\n",
       "    (3): ReLU()\n",
       "    (4): Linear(in_features=512, out_features=10, bias=True)\n",
       "  )\n",
       ")"
      ]
     },
     "execution_count": 2,
     "metadata": {},
     "output_type": "execute_result"
    }
   ],
   "source": [
    "training_data = datasets.FashionMNIST(\n",
    "    root=\"data\",\n",
    "    train=True,\n",
    "    download=True,\n",
    "    transform=ToTensor()\n",
    ")\n",
    "\n",
    "test_data = datasets.FashionMNIST(\n",
    "    root=\"data\",\n",
    "    train=False,\n",
    "    download=True,\n",
    "    transform=ToTensor()\n",
    ")\n",
    "\n",
    "train_dataloader = DataLoader(training_data, batch_size=64)\n",
    "test_dataloader = DataLoader(test_data, batch_size=64)\n",
    "\n",
    "class NeuralNetwork(nn.Module):\n",
    "    def __init__(self):\n",
    "        super(NeuralNetwork, self).__init__()\n",
    "        self.flatten = nn.Flatten()\n",
    "        self.linear_relu_stack = nn.Sequential(\n",
    "            nn.Linear(28*28, 512),\n",
    "            nn.ReLU(),\n",
    "            nn.Linear(512, 512),\n",
    "            nn.ReLU(),\n",
    "            nn.Linear(512, 10),\n",
    "        )\n",
    "\n",
    "    def forward(self, x):\n",
    "        x = self.flatten(x)\n",
    "        logits = self.linear_relu_stack(x)\n",
    "        return logits\n",
    "\n",
    "model = NeuralNetwork()\n",
    "model"
   ]
  },
  {
   "cell_type": "markdown",
   "metadata": {},
   "source": [
    "Гиперпараметры\n",
    "-----------------\n",
    "\n",
    "Гиперпараметры - настраиваемые параметры, которые позволяют управлять процессом оптимизации модели. Различные значения гиперпараметров могут влиять на скорость обучения модели и скорости сходимости (convergence rates).\n",
    "\n",
    "https://pytorch.org/tutorials/beginner/hyperparameter_tuning_tutorial.html о настройке гиперпараметров\n",
    "\n",
    "Определим следующие гиперпараметры для обучения:\n",
    " - **Number of Epochs** - количество итераций тренировки. \n",
    " - **Batch Size** - количество объектов (пачка), которые подаются в модель за один раз.\n",
    " - **Learning Rate** - на сколько сильно обновлять веса модели в каждой эпохе. Маленькие значения приводят к медленной скорости обучения, а большие значения могут привести к непредсказуемому поведению модели."
   ]
  },
  {
   "cell_type": "code",
   "execution_count": 3,
   "metadata": {},
   "outputs": [],
   "source": [
    "learning_rate = 1e-3\n",
    "batch_size = 64\n",
    "epochs = 5"
   ]
  },
  {
   "cell_type": "markdown",
   "metadata": {},
   "source": [
    "Цикл оптимизации\n",
    "-----------------\n",
    "\n",
    "Как только мы установим наши гиперпараметры, мы сможем обучить и оптимизировать нашу модель с помощью цикла. Каждая итерация цикла оптимизации называется **эпохой**.\n",
    "\n",
    "Каждая эпоха состоит из 2-х главных частей:\n",
    " - **The Train Loop** - прогоняем через модель тренировочную выборку и меняем веса.\n",
    " - **The Validation/Test Loop** - прогоняем через модель тестовую выборку и проверяем насколько улучшается качество модели.\n",
    "\n",
    "Loss Function\n",
    "~~~~~~~~~~~~~~~~~\n",
    "\n",
    "При представлении некоторой тренировочной выборки, наша необученная сетка, скорее всего, не даст правильного ответа. Функция потерь измеряет степень несоответствия полученного результата целевому значению, и именно, функцию потерь мы хотим минимизировать при обучении. Чтобы рассчитать потери, мы делаем прогноз, используя данные тренировочной и тестовой выборки, а затем сравниваем прогноз и истинное значение для каждой выборки. Так мы можем контролировать рост качества модели и отслеживать появления переобучения.\n",
    "\n",
    "Общие функции потерь включают `nn.MSELoss `(Mean Square Error) для задач регрессии и  `nn.NLLLoss` (Negative Log Likelihood) для задач классификации.\n",
    "\n",
    "nn.CrossEntropyLoss сочетает в себе nn.LogSoftmax и nn.NLLLoss.\n",
    "\n",
    "Мы передаем выходные `logits` нашей модели в nn.CrossEntropyLoss, который нормализует логиты и вычисляет ошибку предсказания.\n"
   ]
  },
  {
   "cell_type": "code",
   "execution_count": 4,
   "metadata": {},
   "outputs": [],
   "source": [
    "# Initialize the loss function\n",
    "loss_fn = nn.CrossEntropyLoss()"
   ]
  },
  {
   "cell_type": "markdown",
   "metadata": {},
   "source": [
    "Оптимизатор\n",
    "~~~~~~~~~~~~~~~~~\n",
    "\n",
    "Оптимизация — это процесс настройки параметров (весов) модели для уменьшения ошибки модели на каждом этапе обучения. **Алгоритмы оптимизации** определяют, как выполняется этот процесс (в этом примере мы используем Stochastic Gradient Descent, SGD). Вся логика оптимизации заключена в объект ``optimizer``.\n",
    "\n",
    "Здесь мы используем оптимизатор SGD. Кроме того, в PyTorch доступно множество «различных оптимизаторов», таких как ADAM и RMSProp, которые лучше работают с различными типами моделей и данных.\n",
    "\n",
    "Мы инициализируем оптимизатор, регистрируя параметры модели, которые необходимо обучить, и передавая гиперпараметр скорости обучения."
   ]
  },
  {
   "cell_type": "code",
   "execution_count": 7,
   "metadata": {},
   "outputs": [
    {
     "name": "stdout",
     "output_type": "stream",
     "text": [
      "torch.Size([512, 784])\n",
      "====================================================================================================\n",
      "torch.Size([512])\n",
      "====================================================================================================\n",
      "torch.Size([512, 512])\n",
      "====================================================================================================\n",
      "torch.Size([512])\n",
      "====================================================================================================\n",
      "torch.Size([10, 512])\n",
      "====================================================================================================\n",
      "torch.Size([10])\n",
      "====================================================================================================\n"
     ]
    }
   ],
   "source": [
    "for param in model.parameters():\n",
    "    dt = param.data\n",
    "    print(dt.size())\n",
    "    print(\"=\"*100)\n"
   ]
  },
  {
   "cell_type": "code",
   "execution_count": 8,
   "metadata": {},
   "outputs": [],
   "source": [
    "optimizer = torch.optim.SGD(model.parameters(), lr=learning_rate)"
   ]
  },
  {
   "cell_type": "markdown",
   "metadata": {},
   "source": [
    "Внутри цикла обучения, оптимизация происходит в 3 этапа:\n",
    "\n",
    " * Вызов ``optimizer.zero_grad()`` для сброса градиентов параметров (весов) модели. Градиенты по-умолчанию складываются, чтобы предотвратить двойной подсчет, мы явно обнуляем их на каждой итерации (эпохе?).\n",
    "\n",
    " * Обратное распространение ошибки предсказания делается с помощью вызова ``loss.backward()``. PyTorch вносит градиенты потерь относительно каждый параметр.\n",
    "\n",
    " * Когда у нас есть градиенты, мы вызываем ``optimizer.step()``, чтобы скорректировать параметры с помощью градиентов, собранных при `loss.backward()`."
   ]
  },
  {
   "cell_type": "markdown",
   "metadata": {},
   "source": [
    "Понлая реализация\n",
    "-----------------------\n",
    "\n",
    "Мы определяем ``train_loop``, который зацикливается на нашем коде оптимизации, и ``test_loop``, который оценивает качество модели по нашим тестовым данным."
   ]
  },
  {
   "cell_type": "code",
   "execution_count": 9,
   "metadata": {},
   "outputs": [],
   "source": [
    "def train_loop(dataloader, model, loss_fn, optimizer):\n",
    "    size = len(dataloader.dataset)\n",
    "    for batch, (X, y) in enumerate(dataloader):\n",
    "        # Compute prediction and loss\n",
    "        pred = model(X)\n",
    "        loss = loss_fn(pred, y)\n",
    "\n",
    "        # Backpropagation\n",
    "        optimizer.zero_grad()\n",
    "        loss.backward()\n",
    "        optimizer.step()\n",
    "\n",
    "        if batch % 100 == 0:\n",
    "            loss, current = loss.item(), batch * len(X)\n",
    "            print(f\"loss: {loss:>7f}  [{current:>5d}/{size:>5d}]\")\n",
    "\n",
    "\n",
    "def test_loop(dataloader, model, loss_fn):\n",
    "    size = len(dataloader.dataset)\n",
    "    num_batches = len(dataloader)\n",
    "    test_loss, correct = 0, 0\n",
    "\n",
    "    with torch.no_grad():\n",
    "        for X, y in dataloader:\n",
    "            pred = model(X)\n",
    "            test_loss += loss_fn(pred, y).item()\n",
    "            correct += (pred.argmax(1) == y).type(torch.float).sum().item()\n",
    "\n",
    "    test_loss /= num_batches\n",
    "    correct /= size\n",
    "    print(f\"Test Error: \\n Accuracy: {(100*correct):>0.1f}%, Avg loss: {test_loss:>8f} \\n\")"
   ]
  },
  {
   "cell_type": "markdown",
   "metadata": {},
   "source": [
    "Мы инициализируем функцию потерь и оптимизатор и передаем их в ``train_loop`` и ``test_loop``. Не стесняйтесь увеличивать количество эпох, чтобы отслеживать улучшение качество модели."
   ]
  },
  {
   "cell_type": "code",
   "execution_count": 10,
   "metadata": {},
   "outputs": [],
   "source": [
    "loss_fn = nn.CrossEntropyLoss()\n",
    "optimizer = torch.optim.SGD(model.parameters(), lr=learning_rate)"
   ]
  },
  {
   "cell_type": "code",
   "execution_count": 11,
   "metadata": {},
   "outputs": [
    {
     "name": "stdout",
     "output_type": "stream",
     "text": [
      "Epoch 1\n",
      "-------------------------------\n",
      "loss: 2.299706  [    0/60000]\n",
      "loss: 2.290061  [ 6400/60000]\n",
      "loss: 2.262267  [12800/60000]\n",
      "loss: 2.259353  [19200/60000]\n",
      "loss: 2.235340  [25600/60000]\n",
      "loss: 2.208681  [32000/60000]\n",
      "loss: 2.217761  [38400/60000]\n",
      "loss: 2.173945  [44800/60000]\n",
      "loss: 2.171967  [51200/60000]\n",
      "loss: 2.141361  [57600/60000]\n",
      "Test Error: \n",
      " Accuracy: 43.2%, Avg loss: 2.136219 \n",
      "\n",
      "Epoch 2\n",
      "-------------------------------\n",
      "loss: 2.145545  [    0/60000]\n",
      "loss: 2.146621  [ 6400/60000]\n",
      "loss: 2.071846  [12800/60000]\n",
      "loss: 2.094738  [19200/60000]\n",
      "loss: 2.042636  [25600/60000]\n",
      "loss: 1.979479  [32000/60000]\n",
      "loss: 2.008686  [38400/60000]\n",
      "loss: 1.919028  [44800/60000]\n",
      "loss: 1.925777  [51200/60000]\n",
      "loss: 1.863717  [57600/60000]\n",
      "Test Error: \n",
      " Accuracy: 54.5%, Avg loss: 1.856307 \n",
      "\n",
      "Epoch 3\n",
      "-------------------------------\n",
      "loss: 1.887060  [    0/60000]\n",
      "loss: 1.874438  [ 6400/60000]\n",
      "loss: 1.733020  [12800/60000]\n",
      "loss: 1.786821  [19200/60000]\n",
      "loss: 1.683320  [25600/60000]\n",
      "loss: 1.631230  [32000/60000]\n",
      "loss: 1.649677  [38400/60000]\n",
      "loss: 1.543569  [44800/60000]\n",
      "loss: 1.577981  [51200/60000]\n",
      "loss: 1.482222  [57600/60000]\n",
      "Test Error: \n",
      " Accuracy: 60.6%, Avg loss: 1.493887 \n",
      "\n",
      "Epoch 4\n",
      "-------------------------------\n",
      "loss: 1.558463  [    0/60000]\n",
      "loss: 1.536780  [ 6400/60000]\n",
      "loss: 1.367151  [12800/60000]\n",
      "loss: 1.458624  [19200/60000]\n",
      "loss: 1.341126  [25600/60000]\n",
      "loss: 1.336243  [32000/60000]\n",
      "loss: 1.345509  [38400/60000]\n",
      "loss: 1.263264  [44800/60000]\n",
      "loss: 1.312513  [51200/60000]\n",
      "loss: 1.219677  [57600/60000]\n",
      "Test Error: \n",
      " Accuracy: 63.0%, Avg loss: 1.241158 \n",
      "\n",
      "Epoch 5\n",
      "-------------------------------\n",
      "loss: 1.317083  [    0/60000]\n",
      "loss: 1.304898  [ 6400/60000]\n",
      "loss: 1.125385  [12800/60000]\n",
      "loss: 1.248894  [19200/60000]\n",
      "loss: 1.125754  [25600/60000]\n",
      "loss: 1.152538  [32000/60000]\n",
      "loss: 1.163934  [38400/60000]\n",
      "loss: 1.096552  [44800/60000]\n",
      "loss: 1.147738  [51200/60000]\n",
      "loss: 1.071566  [57600/60000]\n",
      "Test Error: \n",
      " Accuracy: 64.3%, Avg loss: 1.087270 \n",
      "\n",
      "Epoch 6\n",
      "-------------------------------\n",
      "loss: 1.158179  [    0/60000]\n",
      "loss: 1.162776  [ 6400/60000]\n",
      "loss: 0.970027  [12800/60000]\n",
      "loss: 1.118006  [19200/60000]\n",
      "loss: 0.996674  [25600/60000]\n",
      "loss: 1.028601  [32000/60000]\n",
      "loss: 1.052215  [38400/60000]\n",
      "loss: 0.991631  [44800/60000]\n",
      "loss: 1.039603  [51200/60000]\n",
      "loss: 0.978477  [57600/60000]\n",
      "Test Error: \n",
      " Accuracy: 65.6%, Avg loss: 0.987590 \n",
      "\n",
      "Epoch 7\n",
      "-------------------------------\n",
      "loss: 1.046422  [    0/60000]\n",
      "loss: 1.070436  [ 6400/60000]\n",
      "loss: 0.863662  [12800/60000]\n",
      "loss: 1.030190  [19200/60000]\n",
      "loss: 0.915505  [25600/60000]\n",
      "loss: 0.938084  [32000/60000]\n",
      "loss: 0.976967  [38400/60000]\n",
      "loss: 0.922185  [44800/60000]\n",
      "loss: 0.962982  [51200/60000]\n",
      "loss: 0.914027  [57600/60000]\n",
      "Test Error: \n",
      " Accuracy: 67.1%, Avg loss: 0.917889 \n",
      "\n",
      "Epoch 8\n",
      "-------------------------------\n",
      "loss: 0.962139  [    0/60000]\n",
      "loss: 1.005067  [ 6400/60000]\n",
      "loss: 0.785892  [12800/60000]\n",
      "loss: 0.966881  [19200/60000]\n",
      "loss: 0.859744  [25600/60000]\n",
      "loss: 0.868805  [32000/60000]\n",
      "loss: 0.921802  [38400/60000]\n",
      "loss: 0.874132  [44800/60000]\n",
      "loss: 0.906071  [51200/60000]\n",
      "loss: 0.865523  [57600/60000]\n",
      "Test Error: \n",
      " Accuracy: 68.4%, Avg loss: 0.866007 \n",
      "\n",
      "Epoch 9\n",
      "-------------------------------\n",
      "loss: 0.895483  [    0/60000]\n",
      "loss: 0.955379  [ 6400/60000]\n",
      "loss: 0.726075  [12800/60000]\n",
      "loss: 0.919066  [19200/60000]\n",
      "loss: 0.817998  [25600/60000]\n",
      "loss: 0.814455  [32000/60000]\n",
      "loss: 0.878704  [38400/60000]\n",
      "loss: 0.839616  [44800/60000]\n",
      "loss: 0.862512  [51200/60000]\n",
      "loss: 0.826918  [57600/60000]\n",
      "Test Error: \n",
      " Accuracy: 69.8%, Avg loss: 0.825648 \n",
      "\n",
      "Epoch 10\n",
      "-------------------------------\n",
      "loss: 0.841220  [    0/60000]\n",
      "loss: 0.914950  [ 6400/60000]\n",
      "loss: 0.678681  [12800/60000]\n",
      "loss: 0.881581  [19200/60000]\n",
      "loss: 0.785052  [25600/60000]\n",
      "loss: 0.771607  [32000/60000]\n",
      "loss: 0.843466  [38400/60000]\n",
      "loss: 0.813468  [44800/60000]\n",
      "loss: 0.828080  [51200/60000]\n",
      "loss: 0.795185  [57600/60000]\n",
      "Test Error: \n",
      " Accuracy: 71.2%, Avg loss: 0.793117 \n",
      "\n",
      "Done!\n"
     ]
    }
   ],
   "source": [
    "epochs = 10\n",
    "for t in range(epochs):\n",
    "    print(f\"Epoch {t+1}\\n-------------------------------\")\n",
    "    train_loop(train_dataloader, model, loss_fn, optimizer)\n",
    "    test_loop(test_dataloader, model, loss_fn)\n",
    "print(\"Done!\")"
   ]
  },
  {
   "cell_type": "markdown",
   "metadata": {},
   "source": [
    "Для дальнейшего изучения\n",
    "-----------------------\n",
    "- `Loss Functions <https://pytorch.org/docs/stable/nn.html#loss-functions>`_\n",
    "- `torch.optim <https://pytorch.org/docs/stable/optim.html>`_\n",
    "- `Warmstart Training a Model <https://pytorch.org/tutorials/recipes/recipes/warmstarting_model_using_parameters_from_a_different_model.html>`_\n",
    "\n",
    "\n"
   ]
  },
  {
   "cell_type": "markdown",
   "metadata": {},
   "source": [
    "---"
   ]
  }
 ],
 "metadata": {
  "kernelspec": {
   "display_name": "Python 3 (ipykernel)",
   "language": "python",
   "name": "python3"
  },
  "language_info": {
   "codemirror_mode": {
    "name": "ipython",
    "version": 3
   },
   "file_extension": ".py",
   "mimetype": "text/x-python",
   "name": "python",
   "nbconvert_exporter": "python",
   "pygments_lexer": "ipython3",
   "version": "3.9.12"
  }
 },
 "nbformat": 4,
 "nbformat_minor": 1
}
