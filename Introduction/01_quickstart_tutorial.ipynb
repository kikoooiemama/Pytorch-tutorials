{
 "cells": [
  {
   "cell_type": "markdown",
   "metadata": {},
   "source": [
    "Быстрый старт\n",
    "===================\n",
    "\n",
    "Работа с данными\n",
    "-----------------\n",
    "В PyTorch существует два базовых примитива для работы с данными <https://pytorch.org/docs/stable/data.html>:\n",
    "``torch.utils.data.DataLoader`` и ``torch.utils.data.Dataset``.\n",
    "``Dataset`` хранит сэмплы и соответстующие им значения целевой переменной (corresponding labels), а ``DataLoader`` wraps an iterable around the ``Dataset``.\n"
   ]
  },
  {
   "cell_type": "code",
   "execution_count": 1,
   "metadata": {},
   "outputs": [],
   "source": [
    "import torch\n",
    "from torch import nn\n",
    "from torch.utils.data import DataLoader\n",
    "from torchvision import datasets\n",
    "from torchvision.transforms import ToTensor"
   ]
  },
  {
   "cell_type": "markdown",
   "metadata": {},
   "source": [
    "PyTorch предлагает специальные библиотеки:\n",
    "1. [TorchText](https://pytorch.org/text/stable/index.html),\n",
    "2. [TorchVision](https://pytorch.org/vision/stable/index.html), \n",
    "3. [TorchAudio](https://pytorch.org/audio/stable/index.html),\n",
    "\n",
    "которые содержат в себе некоторые наборы данных. \n",
    "В данном туторе мы будем использовать TorchVision dataset.\n",
    "\n",
    "Модуль ``torchvision.datasets`` содержит объекты класса ``Dataset`` многих наборов данных, таких как CIFAR, COCO (https://pytorch.org/vision/stable/datasets.html). \n",
    "В данном туторе мы будем использовать датасет `FashionMNIST`. В каждом подобном датасете `TorchVision` есть два аргумента: ``transform`` и ``target_transform``, чтобы менять объекты и соответствующие им целевые переменные (labels)."
   ]
  },
  {
   "cell_type": "code",
   "execution_count": 3,
   "metadata": {},
   "outputs": [
    {
     "name": "stdout",
     "output_type": "stream",
     "text": [
      "Класс объектов: <class 'torchvision.datasets.mnist.FashionMNIST'>, <class 'torchvision.datasets.mnist.FashionMNIST'>\n"
     ]
    }
   ],
   "source": [
    "# Загружаем тренировочную выборку из библиотеки datasets.\n",
    "training_data = datasets.FashionMNIST(\n",
    "    root='data',\n",
    "    train=True,\n",
    "    download=True,\n",
    "    transform=ToTensor(),\n",
    ")\n",
    "\n",
    "# Загружаем тестовую выборку из библиотеки datasets. \n",
    "test_data = datasets.FashionMNIST(\n",
    "    root='data',\n",
    "    train=False,\n",
    "    download=True,\n",
    "    transform=ToTensor(),\n",
    ")\n",
    "\n",
    "print(f\"Класс объектов: {type(training_data)}, {type(test_data)}\")"
   ]
  },
  {
   "cell_type": "markdown",
   "metadata": {},
   "source": [
    "Помним, что `FashinMNIST` наследуется от базового класса `Dataset`. Объекты класса `Dataset` являются аргументами для объектов класса `DataLoader`. Что это значит? Это означает что наш набор данных (выборка) будет обернут в итерируемый объект, что позволит сделать:\n",
    "1. автоматическая пакетная обрабка (batching)\n",
    "2. выборку (sampling)\n",
    "3. переасовку (shuffling)\n",
    "4. многопроцессорную загрузку данных (multiprocess data loading)"
   ]
  },
  {
   "cell_type": "markdown",
   "metadata": {},
   "source": [
    "Ниже представлен пример, мы задаем размер батча 64, т.е. каждый элемент в итерации загрузчика данных будет возвращать батч из 64 объектов (наборов признаков) и соответствующих им ответов (labels)"
   ]
  },
  {
   "cell_type": "code",
   "execution_count": 4,
   "metadata": {},
   "outputs": [
    {
     "name": "stdout",
     "output_type": "stream",
     "text": [
      "Shape of X [N, C, H, W]: torch.Size([64, 1, 28, 28]) torch.float32\n",
      "Shape of y: torch.Size([64]) torch.int64\n"
     ]
    }
   ],
   "source": [
    "batch_size = 64\n",
    "\n",
    "# Создание DataLoader\n",
    "train_dataloader = DataLoader(training_data, batch_size=batch_size)\n",
    "test_dataloader = DataLoader(test_data, batch_size=batch_size)\n",
    "\n",
    "for X, y in test_dataloader:\n",
    "    print(f\"Shape of X [N, C, H, W]: {X.shape} {X.dtype}\")\n",
    "    print(f\"Shape of y: {y.shape} {y.dtype}\")\n",
    "    break"
   ]
  },
  {
   "cell_type": "code",
   "execution_count": 5,
   "metadata": {
    "scrolled": false
   },
   "outputs": [
    {
     "data": {
      "text/plain": [
       "Dataset FashionMNIST\n",
       "    Number of datapoints: 60000\n",
       "    Root location: data\n",
       "    Split: Train\n",
       "    StandardTransform\n",
       "Transform: ToTensor()"
      ]
     },
     "execution_count": 5,
     "metadata": {},
     "output_type": "execute_result"
    }
   ],
   "source": [
    "train_dataloader.dataset"
   ]
  },
  {
   "cell_type": "code",
   "execution_count": 6,
   "metadata": {},
   "outputs": [
    {
     "data": {
      "text/plain": [
       "torch.Size([60000, 28, 28])"
      ]
     },
     "execution_count": 6,
     "metadata": {},
     "output_type": "execute_result"
    }
   ],
   "source": [
    "train_dataloader.dataset.data.size()"
   ]
  },
  {
   "cell_type": "code",
   "execution_count": 7,
   "metadata": {},
   "outputs": [
    {
     "data": {
      "text/plain": [
       "Dataset FashionMNIST\n",
       "    Number of datapoints: 10000\n",
       "    Root location: data\n",
       "    Split: Test\n",
       "    StandardTransform\n",
       "Transform: ToTensor()"
      ]
     },
     "execution_count": 7,
     "metadata": {},
     "output_type": "execute_result"
    }
   ],
   "source": [
    "test_dataloader.dataset"
   ]
  },
  {
   "cell_type": "code",
   "execution_count": 8,
   "metadata": {},
   "outputs": [
    {
     "data": {
      "text/plain": [
       "torch.Size([10000, 28, 28])"
      ]
     },
     "execution_count": 8,
     "metadata": {},
     "output_type": "execute_result"
    }
   ],
   "source": [
    "test_dataloader.dataset.data.size()"
   ]
  },
  {
   "cell_type": "markdown",
   "metadata": {},
   "source": [
    "Узнать об этих классах можно в ноутбуке ***03_data_tutorial***."
   ]
  },
  {
   "cell_type": "markdown",
   "metadata": {},
   "source": [
    "--------------\n",
    "\n",
    "\n"
   ]
  },
  {
   "cell_type": "markdown",
   "metadata": {},
   "source": [
    "Создание модели нейронной сети\n",
    "------------------\n",
    "Для определения нейронной сети в PyTorch нужно создать класс, который наследуется от `nn.Module`. Внутри класса нужно обязательно определеить базовые функции ``__init__`` и ``forward``. \n",
    "1. ``__init__`` - здесь мы определяем сколько и какие слои будут в нашей сетке.\n",
    "2. ``forward`` - здесь указывается в каком порядке будут проходить данные через сетку.\n",
    "\n",
    "Для ускорения работы обучения нейронной сети мы будет переносить ее на GPU, если он доступен."
   ]
  },
  {
   "cell_type": "code",
   "execution_count": 9,
   "metadata": {},
   "outputs": [
    {
     "name": "stdout",
     "output_type": "stream",
     "text": [
      "Using 'cuda' device\n"
     ]
    }
   ],
   "source": [
    "# Определить CPU или GPU \n",
    "device = \"cuda\" if torch.cuda.is_available() else \"cpu\"\n",
    "print(f\"Using '{device}' device\")"
   ]
  },
  {
   "cell_type": "code",
   "execution_count": 10,
   "metadata": {},
   "outputs": [],
   "source": [
    "# Создаем модель\n",
    "class NeuralNetwork(nn.Module):\n",
    "    def __init__(self):\n",
    "        super(NeuralNetwork, self).__init__()\n",
    "        self.flatten = nn.Flatten()\n",
    "        self.linear_relu_stack = nn.Sequential(\n",
    "            nn.Linear(28*28, 512), \n",
    "            nn.ReLU(),\n",
    "            nn.Linear(512, 512),\n",
    "            nn.ReLU(),\n",
    "            nn.Linear(512, 10)\n",
    "        )\n",
    "        \n",
    "    def forward(self, x):\n",
    "        x = self.flatten(x)\n",
    "        logits = self.linear_relu_stack(x)\n",
    "        return logits"
   ]
  },
  {
   "cell_type": "code",
   "execution_count": 11,
   "metadata": {
    "scrolled": true
   },
   "outputs": [
    {
     "name": "stdout",
     "output_type": "stream",
     "text": [
      "NeuralNetwork(\n",
      "  (flatten): Flatten(start_dim=1, end_dim=-1)\n",
      "  (linear_relu_stack): Sequential(\n",
      "    (0): Linear(in_features=784, out_features=512, bias=True)\n",
      "    (1): ReLU()\n",
      "    (2): Linear(in_features=512, out_features=512, bias=True)\n",
      "    (3): ReLU()\n",
      "    (4): Linear(in_features=512, out_features=10, bias=True)\n",
      "  )\n",
      ")\n"
     ]
    }
   ],
   "source": [
    "model = NeuralNetwork().to(device)\n",
    "print(model)"
   ]
  },
  {
   "cell_type": "markdown",
   "metadata": {},
   "source": [
    "Узнать больше о построении моделей нейронных сетей в PyTorch можно в ноутбуке ***05_buildmodel_tutorial***.\n"
   ]
  },
  {
   "cell_type": "markdown",
   "metadata": {},
   "source": [
    "--------------\n",
    "\n",
    "\n"
   ]
  },
  {
   "cell_type": "markdown",
   "metadata": {},
   "source": [
    "Оптимизация параметров модели\n",
    "----------------------------------------\n",
    "\n",
    "Чтобы натренеровать модель (подобрать оптимальные параметры, веса), необходима функция ошибки (Loss Function) и алгоритм минимизации этой ошибки (Optimizer) - способ оптимизации весов.\n",
    "\n",
    "https://pytorch.org/docs/stable/nn.html#loss-functions\n",
    "\n",
    "https://pytorch.org/docs/stable/optim.html"
   ]
  },
  {
   "cell_type": "markdown",
   "metadata": {},
   "source": [
    "**Обратное распространение ошибки** — это способ обучения нейронной сети. Цели обратного распространения просты: отрегулировать каждый вес пропорционально тому, насколько он способствует общей ошибке. Если мы будем итеративно уменьшать ошибку каждого веса, в конце концов у нас будет ряд весов, которые дают хорошие прогнозы.\n",
    "\n",
    "Один цикл обучения:\n",
    "1. Прогноз на тренировочной выборке \n",
    "2. Расчет ошибки на тренировочной выборке \n",
    "3. Корректировка параметрво модели (весов) с помощью обратного распространения ошибки.\n",
    "\n",
    "<u>Для справки:</u><br>\n",
    "1. **Обратное распространение ошибки** — это способ обучения нейронной сети. Цели обратного распространения просты: отрегулировать каждый вес пропорционально тому, насколько он способствует общей ошибке. Если мы будем итеративно уменьшать ошибку каждого веса, в конце концов у нас будет ряд весов, которые дают хорошие прогнозы.\n",
    "\n",
    "2. `model.train()` устанавливает режим обучения (см. исходный код). Вы можете вызвать либо `model.eval()`, либо `model.train(mode=False)`, чтобы сообщить, что вы тестируете.\n",
    "\n",
    "3. DataLoader - генератор батчей\n",
    "\n",
    "4. `Torch.no_grad()` деактивирует движок autograd, что в итоге это уменьшит использование памяти и ускорит вычисления.\n",
    "\n",
    "Используйте `Torch.no_grad()`, если:\n",
    "\n",
    "<ul>\n",
    "    <li>Для выполнения вывода без вычисления градиента.</li>\n",
    "    <li>Быть уверенным, что никакие тестовые данные не попали в модель</li>\n",
    "</ul>"
   ]
  },
  {
   "cell_type": "code",
   "execution_count": 12,
   "metadata": {
    "scrolled": true
   },
   "outputs": [
    {
     "name": "stdout",
     "output_type": "stream",
     "text": [
      "torch.Size([64, 1, 28, 28])\n",
      "tensor([[[[0., 0., 0.,  ..., 0., 0., 0.],\n",
      "          [0., 0., 0.,  ..., 0., 0., 0.],\n",
      "          [0., 0., 0.,  ..., 0., 0., 0.],\n",
      "          ...,\n",
      "          [0., 0., 0.,  ..., 0., 0., 0.],\n",
      "          [0., 0., 0.,  ..., 0., 0., 0.],\n",
      "          [0., 0., 0.,  ..., 0., 0., 0.]]],\n",
      "\n",
      "\n",
      "        [[[0., 0., 0.,  ..., 0., 0., 0.],\n",
      "          [0., 0., 0.,  ..., 0., 0., 0.],\n",
      "          [0., 0., 0.,  ..., 0., 0., 0.],\n",
      "          ...,\n",
      "          [0., 0., 0.,  ..., 0., 0., 0.],\n",
      "          [0., 0., 0.,  ..., 0., 0., 0.],\n",
      "          [0., 0., 0.,  ..., 0., 0., 0.]]],\n",
      "\n",
      "\n",
      "        [[[0., 0., 0.,  ..., 0., 0., 0.],\n",
      "          [0., 0., 0.,  ..., 0., 0., 0.],\n",
      "          [0., 0., 0.,  ..., 0., 0., 0.],\n",
      "          ...,\n",
      "          [0., 0., 0.,  ..., 0., 0., 0.],\n",
      "          [0., 0., 0.,  ..., 0., 0., 0.],\n",
      "          [0., 0., 0.,  ..., 0., 0., 0.]]],\n",
      "\n",
      "\n",
      "        ...,\n",
      "\n",
      "\n",
      "        [[[0., 0., 0.,  ..., 0., 0., 0.],\n",
      "          [0., 0., 0.,  ..., 0., 0., 0.],\n",
      "          [0., 0., 0.,  ..., 0., 0., 0.],\n",
      "          ...,\n",
      "          [0., 0., 0.,  ..., 0., 0., 0.],\n",
      "          [0., 0., 0.,  ..., 0., 0., 0.],\n",
      "          [0., 0., 0.,  ..., 0., 0., 0.]]],\n",
      "\n",
      "\n",
      "        [[[0., 0., 0.,  ..., 0., 0., 0.],\n",
      "          [0., 0., 0.,  ..., 0., 0., 0.],\n",
      "          [0., 0., 0.,  ..., 0., 0., 0.],\n",
      "          ...,\n",
      "          [0., 0., 0.,  ..., 0., 0., 0.],\n",
      "          [0., 0., 0.,  ..., 0., 0., 0.],\n",
      "          [0., 0., 0.,  ..., 0., 0., 0.]]],\n",
      "\n",
      "\n",
      "        [[[0., 0., 0.,  ..., 0., 0., 0.],\n",
      "          [0., 0., 0.,  ..., 0., 0., 0.],\n",
      "          [0., 0., 0.,  ..., 0., 0., 0.],\n",
      "          ...,\n",
      "          [0., 0., 0.,  ..., 0., 0., 0.],\n",
      "          [0., 0., 0.,  ..., 0., 0., 0.],\n",
      "          [0., 0., 0.,  ..., 0., 0., 0.]]]])\n",
      "<class 'torch.Tensor'>\n",
      "------------------------------\n",
      "torch.Size([64])\n",
      "tensor([9, 0, 0, 3, 0, 2, 7, 2, 5, 5, 0, 9, 5, 5, 7, 9, 1, 0, 6, 4, 3, 1, 4, 8,\n",
      "        4, 3, 0, 2, 4, 4, 5, 3, 6, 6, 0, 8, 5, 2, 1, 6, 6, 7, 9, 5, 9, 2, 7, 3,\n",
      "        0, 3, 3, 3, 7, 2, 2, 6, 6, 8, 3, 3, 5, 0, 5, 5])\n",
      "<class 'torch.Tensor'>\n"
     ]
    }
   ],
   "source": [
    "for batch, (X, y) in enumerate(train_dataloader):\n",
    "    print(X.size())\n",
    "    print(X)\n",
    "    print(type(X))\n",
    "    print('-'*30)\n",
    "    print(y.size())\n",
    "    print(y)\n",
    "    print(type(y))\n",
    "    break"
   ]
  },
  {
   "cell_type": "code",
   "execution_count": 13,
   "metadata": {},
   "outputs": [
    {
     "data": {
      "text/plain": [
       "[True, True, True, True, True, True]"
      ]
     },
     "execution_count": 13,
     "metadata": {},
     "output_type": "execute_result"
    }
   ],
   "source": [
    "[x.requires_grad for x in model.parameters()]"
   ]
  },
  {
   "cell_type": "code",
   "execution_count": 14,
   "metadata": {},
   "outputs": [],
   "source": [
    "loss_fn = nn.CrossEntropyLoss()\n",
    "optimizer = torch.optim.SGD(model.parameters(), lr=1e-3)"
   ]
  },
  {
   "cell_type": "code",
   "execution_count": 15,
   "metadata": {},
   "outputs": [],
   "source": [
    "# Метод обучения\n",
    "def train(dataloader, model, loss_fn, optimizer):\n",
    "    size = len(dataloader.dataset)\n",
    "    model.train()\n",
    "    for batch, (X, y) in enumerate(dataloader):\n",
    "        X, y = X.to(device), y.to(device)\n",
    "        \n",
    "        # Прогноз\n",
    "        pred = model(X)\n",
    "        \n",
    "        # Расчет ошибки\n",
    "        loss = loss_fn(pred, y)\n",
    "        \n",
    "        # Обратное распространение ошибки\n",
    "        optimizer.zero_grad() # занулили градиенты\n",
    "        loss.backward() # вычисление градиента ошибки (grad U) относительно параметров модели\n",
    "        optimizer.step() # обновляет параметры в модели после backward()\n",
    "        \n",
    "        if batch % 100 == 0:\n",
    "            loss, current = loss.item(), batch * len(X)\n",
    "            print(f\"loss: {loss:>7f}  [{current:>5d}/{size:>5d}]\")"
   ]
  },
  {
   "cell_type": "markdown",
   "metadata": {},
   "source": [
    "Мы также проверяем эффективность модели на тестовом наборе данных, чтобы убедиться, что она обучается."
   ]
  },
  {
   "cell_type": "code",
   "execution_count": 16,
   "metadata": {},
   "outputs": [],
   "source": [
    "# Проверка на тестовом наборе данных\n",
    "def test(dataloader, model, loss_fn):\n",
    "    size = len(dataloader.dataset) # количество объектов в выборке\n",
    "    numb_batches = len(dataloader) # количество батчей в выборке\n",
    "    model.eval()\n",
    "    test_loss, correct = 0, 0\n",
    "    with torch.no_grad():\n",
    "        for X, y in dataloader:\n",
    "            X, y = X.to(device), y.to(device)\n",
    "            pred = model(X)\n",
    "            test_loss += loss_fn(pred, y).item()\n",
    "            correct += (pred.argmax(1) == y).type(torch.float).sum().item()\n",
    "    test_loss /= numb_batches\n",
    "    correct /= size\n",
    "    print(f\"Test Error: \\nAccuracy: {(100*correct):>0.1f}%, Avg loss: {test_loss:>8f} \\n\")"
   ]
  },
  {
   "cell_type": "markdown",
   "metadata": {},
   "source": [
    "Процесс обучения проводится в течение нескольких итераций (эпох). В течение каждой эпохи модель изучает параметры, чтобы делать более точные прогнозы. Мы будем делать расчет точности и ошибки модели в каждую эпоху для того, чтобы отслеживать обучение. С увеличением эпохи мы хотим, чтобы точность увеличивалась, а величина ошибки уменьшалась."
   ]
  },
  {
   "cell_type": "code",
   "execution_count": 17,
   "metadata": {},
   "outputs": [
    {
     "name": "stdout",
     "output_type": "stream",
     "text": [
      "Epoch 1\n",
      "-------------------------------\n",
      "loss: 2.300014  [    0/60000]\n",
      "loss: 2.293799  [ 6400/60000]\n",
      "loss: 2.280757  [12800/60000]\n",
      "loss: 2.278538  [19200/60000]\n",
      "loss: 2.249225  [25600/60000]\n",
      "loss: 2.228636  [32000/60000]\n",
      "loss: 2.234422  [38400/60000]\n",
      "loss: 2.207179  [44800/60000]\n",
      "loss: 2.197369  [51200/60000]\n",
      "loss: 2.168218  [57600/60000]\n",
      "Test Error: \n",
      "Accuracy: 37.4%, Avg loss: 2.167024 \n",
      "\n",
      "Epoch 2\n",
      "-------------------------------\n",
      "loss: 2.167990  [    0/60000]\n",
      "loss: 2.165421  [ 6400/60000]\n",
      "loss: 2.116159  [12800/60000]\n",
      "loss: 2.137037  [19200/60000]\n",
      "loss: 2.080992  [25600/60000]\n",
      "loss: 2.024810  [32000/60000]\n",
      "loss: 2.052163  [38400/60000]\n",
      "loss: 1.984350  [44800/60000]\n",
      "loss: 1.983029  [51200/60000]\n",
      "loss: 1.916214  [57600/60000]\n",
      "Test Error: \n",
      "Accuracy: 56.9%, Avg loss: 1.915761 \n",
      "\n",
      "Epoch 3\n",
      "-------------------------------\n",
      "loss: 1.934323  [    0/60000]\n",
      "loss: 1.916325  [ 6400/60000]\n",
      "loss: 1.808177  [12800/60000]\n",
      "loss: 1.853303  [19200/60000]\n",
      "loss: 1.738515  [25600/60000]\n",
      "loss: 1.689991  [32000/60000]\n",
      "loss: 1.706246  [38400/60000]\n",
      "loss: 1.617347  [44800/60000]\n",
      "loss: 1.637970  [51200/60000]\n",
      "loss: 1.534658  [57600/60000]\n",
      "Test Error: \n",
      "Accuracy: 62.4%, Avg loss: 1.548827 \n",
      "\n",
      "Epoch 4\n",
      "-------------------------------\n",
      "loss: 1.601797  [    0/60000]\n",
      "loss: 1.577531  [ 6400/60000]\n",
      "loss: 1.428662  [12800/60000]\n",
      "loss: 1.501714  [19200/60000]\n",
      "loss: 1.374565  [25600/60000]\n",
      "loss: 1.377228  [32000/60000]\n",
      "loss: 1.382702  [38400/60000]\n",
      "loss: 1.315767  [44800/60000]\n",
      "loss: 1.352403  [51200/60000]\n",
      "loss: 1.251668  [57600/60000]\n",
      "Test Error: \n",
      "Accuracy: 63.2%, Avg loss: 1.273000 \n",
      "\n",
      "Epoch 5\n",
      "-------------------------------\n",
      "loss: 1.339767  [    0/60000]\n",
      "loss: 1.333601  [ 6400/60000]\n",
      "loss: 1.167444  [12800/60000]\n",
      "loss: 1.269856  [19200/60000]\n",
      "loss: 1.138468  [25600/60000]\n",
      "loss: 1.173411  [32000/60000]\n",
      "loss: 1.186051  [38400/60000]\n",
      "loss: 1.131054  [44800/60000]\n",
      "loss: 1.175300  [51200/60000]\n",
      "loss: 1.088663  [57600/60000]\n",
      "Test Error: \n",
      "Accuracy: 64.2%, Avg loss: 1.104044 \n",
      "\n",
      "Done!\n"
     ]
    }
   ],
   "source": [
    "epochs = 5\n",
    "for t in range(epochs):\n",
    "    print(f\"Epoch {t+1}\\n-------------------------------\")\n",
    "    train(train_dataloader, model, loss_fn, optimizer)\n",
    "    test(test_dataloader, model, loss_fn)\n",
    "print(\"Done!\")"
   ]
  },
  {
   "cell_type": "markdown",
   "metadata": {},
   "source": [
    "Узнать больше об обучении моделей нейронных сетей в PyTorch можно в ноутбуке ***07_optimization_tutorial***."
   ]
  },
  {
   "cell_type": "markdown",
   "metadata": {},
   "source": [
    "--------------\n",
    "\n",
    "\n"
   ]
  },
  {
   "cell_type": "markdown",
   "metadata": {},
   "source": [
    "Сохранение моделей\n",
    "-------------\n",
    "Распространенным способом сохранения модели является сериализация словаря внутреннего состояния (содержащего параметры модели).\n"
   ]
  },
  {
   "cell_type": "code",
   "execution_count": 18,
   "metadata": {},
   "outputs": [
    {
     "name": "stdout",
     "output_type": "stream",
     "text": [
      "Saved PyTorch Model State to model.pth\n"
     ]
    }
   ],
   "source": [
    "torch.save(model.state_dict(), \"./weights/weights_01.pth\")\n",
    "print(\"Saved PyTorch Model State to model.pth\")"
   ]
  },
  {
   "cell_type": "markdown",
   "metadata": {},
   "source": [
    "Loading Models\n",
    "----------------------------\n",
    "\n",
    "The process for loading a model includes re-creating the model structure and loading\n",
    "the state dictionary into it.\n",
    "\n"
   ]
  },
  {
   "cell_type": "code",
   "execution_count": 19,
   "metadata": {},
   "outputs": [
    {
     "data": {
      "text/plain": [
       "<All keys matched successfully>"
      ]
     },
     "execution_count": 19,
     "metadata": {},
     "output_type": "execute_result"
    }
   ],
   "source": [
    "model = NeuralNetwork()\n",
    "model.load_state_dict(torch.load(\"./models/model_01.pth\"))"
   ]
  },
  {
   "cell_type": "markdown",
   "metadata": {},
   "source": [
    "This model can now be used to make predictions.\n",
    "\n"
   ]
  },
  {
   "cell_type": "code",
   "execution_count": 20,
   "metadata": {},
   "outputs": [],
   "source": [
    "classes = [\n",
    "    \"T-shirt/top\",\n",
    "    \"Trouser\",\n",
    "    \"Pullover\",\n",
    "    \"Dress\",\n",
    "    \"Coat\",\n",
    "    \"Sandal\",\n",
    "    \"Shirt\",\n",
    "    \"Sneaker\",\n",
    "    \"Bag\",\n",
    "    \"Ankle boot\",\n",
    "]\n",
    "\n",
    "model.eval()\n",
    "x, y = test_data[0][0], test_data[0][1]"
   ]
  },
  {
   "cell_type": "code",
   "execution_count": 21,
   "metadata": {},
   "outputs": [
    {
     "name": "stdout",
     "output_type": "stream",
     "text": [
      "9\n",
      "Predicted: \"Ankle boot\", Actual: \"Ankle boot\"\n"
     ]
    }
   ],
   "source": [
    "with torch.no_grad():\n",
    "    pred = model(x)\n",
    "    predicted, actual = classes[pred[0].argmax(0)], classes[y]\n",
    "    print(f\"{pred[0].argmax(0)}\")\n",
    "    print(f'Predicted: \"{predicted}\", Actual: \"{actual}\"')"
   ]
  },
  {
   "cell_type": "markdown",
   "metadata": {},
   "source": [
    "Узнать больше об сохранении и загрузке моделей нейронных сетей ***08_saveloadrun_tutorial***."
   ]
  },
  {
   "cell_type": "markdown",
   "metadata": {},
   "source": [
    "---\n"
   ]
  }
 ],
 "metadata": {
  "kernelspec": {
   "display_name": "Python 3 (ipykernel)",
   "language": "python",
   "name": "python3"
  },
  "language_info": {
   "codemirror_mode": {
    "name": "ipython",
    "version": 3
   },
   "file_extension": ".py",
   "mimetype": "text/x-python",
   "name": "python",
   "nbconvert_exporter": "python",
   "pygments_lexer": "ipython3",
   "version": "3.9.12"
  }
 },
 "nbformat": 4,
 "nbformat_minor": 1
}
