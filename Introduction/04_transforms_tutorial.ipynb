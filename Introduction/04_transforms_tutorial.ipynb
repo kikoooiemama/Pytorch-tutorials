{
 "cells": [
  {
   "cell_type": "markdown",
   "metadata": {},
   "source": [
    "Transforms\n",
    "===================\n",
    "\n",
    "Данные не всегда поступают в нужном для обучения виде. Мы используем **transforms**, чтобы выполнить некоторые манипуляции с данными и сделать их пригодными для обучения.\n",
    "\n",
    "Все TorchVision датасеты имеют 2 параметра: \n",
    "\n",
    "1. ``transform`` - изменение признаков\n",
    "2. ``target_transform`` - изменение меток (ответов)\n",
    "\n",
    "Признаки FashionMNIST представлены в формате PIL картинок, а метки - int. Для обучения нам нужны признаки в виде нормализованных тензоров, и метки в виде one-hot тензоров.\n",
    "\n",
    "Чтобы сделать данные изменения в данных, нужно использовать ``ToTensor`` и ``Lambda``."
   ]
  },
  {
   "cell_type": "code",
   "execution_count": 1,
   "metadata": {},
   "outputs": [],
   "source": [
    "import torch\n",
    "from torchvision import datasets\n",
    "from torchvision.transforms import ToTensor, Lambda"
   ]
  },
  {
   "cell_type": "code",
   "execution_count": 2,
   "metadata": {},
   "outputs": [],
   "source": [
    "ds = datasets.FashionMNIST(\n",
    "    root='data',\n",
    "    train=True,\n",
    "    download=True,\n",
    "    transform=ToTensor(),\n",
    "    target_transform=Lambda(lambda y: torch.zeros(10, dtype=torch.float).scatter_(0, torch.tensor(y), value=1))\n",
    ")"
   ]
  },
  {
   "cell_type": "markdown",
   "metadata": {},
   "source": [
    "ToTensor()\n",
    "-------------------------------\n",
    "\n",
    "Конвертирует PIL картинку или NumPy ``ndarray`` в ``FloatTensor``, и масштабирует интенсивность пикселей в интервале [0; 1]\n",
    "\n",
    "https://pytorch.org/vision/stable/transforms.html#torchvision.transforms.ToTensor"
   ]
  },
  {
   "cell_type": "markdown",
   "metadata": {},
   "source": [
    "Lambda Transforms\n",
    "-------------------------------\n",
    "\n",
    "``Lambda`` преобразования любую питоновскую lambda-функцию. В нашем случае мы определяем функцию для преобразования int в one-hot тензор.\n",
    "\n",
    "Сначала он создает нулевой тензор размера 10 (количество разных меток в нашем датасете) и вызывает `scatter_()`, который присваивает `value=1` по индексу, заданному меткой `y`."
   ]
  },
  {
   "cell_type": "code",
   "execution_count": 3,
   "metadata": {},
   "outputs": [],
   "source": [
    "target_transform = Lambda(lambda y: torch.zeros(10, dtype=torch.float).scatter_(dim=0, index=torch.tensor(y), value=1))"
   ]
  },
  {
   "cell_type": "markdown",
   "metadata": {},
   "source": [
    "--------------\n",
    "\n",
    "\n"
   ]
  },
  {
   "cell_type": "markdown",
   "metadata": {},
   "source": [
    "Для более глубокого изучения:\n",
    "\n",
    "`torchvision.transforms API https://pytorch.org/vision/stable/transforms.html"
   ]
  },
  {
   "cell_type": "markdown",
   "metadata": {},
   "source": [
    "---"
   ]
  }
 ],
 "metadata": {
  "kernelspec": {
   "display_name": "Python 3 (ipykernel)",
   "language": "python",
   "name": "python3"
  },
  "language_info": {
   "codemirror_mode": {
    "name": "ipython",
    "version": 3
   },
   "file_extension": ".py",
   "mimetype": "text/x-python",
   "name": "python",
   "nbconvert_exporter": "python",
   "pygments_lexer": "ipython3",
   "version": "3.9.12"
  }
 },
 "nbformat": 4,
 "nbformat_minor": 1
}
