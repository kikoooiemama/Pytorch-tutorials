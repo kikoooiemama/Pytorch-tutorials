{
 "cells": [
  {
   "cell_type": "markdown",
   "metadata": {},
   "source": [
    "Datasets & DataLoaders\n",
    "==================="
   ]
  },
  {
   "cell_type": "markdown",
   "metadata": {},
   "source": [
    "Код для обработки объектов выборки может быть запутанным и сложным в обслуживании, в идеале мы бы хотели, чтобы наш код обработки данных (data processing) был отделен от нашего кода обучения модели для лучшей читабельности и модульности. В Pytorch существует два примитива данных: ``torch.utils.data.DataLoader`` и ``torch.utils.data.Dataset``, которые позволяют использовать предварительно загруженные наборы данных, а также ваши собственные данные. Набор данных - `Dataset`, хранит объекты (samples) и соответствующие им ответы (labels), а загрузчик данных - `DataLoader` делает итерируемую обертку над `Dataset`, чтобы обеспечить легкий доступ к каждому объекту данных.\n",
    "\n",
    "Библиотеки PyTorch предоставляют ряд предварительно загруженных датасетов (таких как FashionMNIST), которые являются подклассами ``torch.utils.data.Dataset`` и реализуют функции, специфичные для определенных данных.\n",
    "\n",
    "Их можно использовать для создания и тестирования вашей модели. датасеты можно найти здесь:\n",
    "\n",
    "1. Image Datasets <https://pytorch.org/vision/stable/datasets.html>\n",
    "2. Text Datasets <https://pytorch.org/text/stable/datasets.html>\n",
    "3. Audio Datasets <https://pytorch.org/audio/stable/datasets.html>\n",
    "\n",
    "\n"
   ]
  },
  {
   "cell_type": "markdown",
   "metadata": {},
   "source": [
    "Загрузка Dataset\n",
    "-------------------\n",
    "В качестве примера рассмотрим загрузку датасета Fashion-MNIST из TorchVision. \n",
    "\n",
    "Fashion-MNIST - это датасет, который состоит из тренировочной (60к объектов) и тестовой (10к объектов) выборки. Каждый объект имеет изображение в градациях серого размером 28х28 пикселей и метку (один из 10 классов от 0 до 9)\n",
    "\n",
    "\n",
    "Параметры:\n",
    " - ``root`` - путь, где хранятся train/test данные,\n",
    " - ``train`` - флаг, указывающий на тип данных,\n",
    " - ``download=True`` - скачать данные в ``root``, если их там нет.\n",
    " - ``transform`` and ``target_transform`` -  преобразование объекта и ответа."
   ]
  },
  {
   "cell_type": "code",
   "execution_count": 4,
   "metadata": {},
   "outputs": [],
   "source": [
    "import torch\n",
    "from torch.utils.data import Dataset\n",
    "from torchvision import datasets\n",
    "from torchvision.transforms import ToTensor\n",
    "import matplotlib.pyplot as plt\n",
    "%matplotlib inline"
   ]
  },
  {
   "cell_type": "code",
   "execution_count": 5,
   "metadata": {},
   "outputs": [],
   "source": [
    "training_data = datasets.FashionMNIST(\n",
    "    root=\"data\",\n",
    "    train=True,\n",
    "    download=True,\n",
    "    transform=ToTensor()\n",
    ")\n",
    "\n",
    "test_data = datasets.FashionMNIST(\n",
    "    root=\"data\",\n",
    "    train=False,\n",
    "    download=True,\n",
    "    transform=ToTensor()\n",
    ")"
   ]
  },
  {
   "cell_type": "markdown",
   "metadata": {},
   "source": [
    "Итерация и визуализация по Dataset\n",
    "-----------------\n",
    "\n",
    "Мы можем индексировать ``Datasets`` вручную, как список: ``training_data[index]``.\n",
    "Мы используем ``matplotlib`` для визуализации некоторых объектов наших тренировочных данных."
   ]
  },
  {
   "cell_type": "markdown",
   "metadata": {},
   "source": [
    "Чтобы не умирало ядро:\n",
    "~~~~~~~~~~~~~~\n",
    "\n",
    "import os\n",
    "os.environ['KMP_DUPLICATE_LIB_OK']='True'\n"
   ]
  },
  {
   "cell_type": "code",
   "execution_count": 6,
   "metadata": {},
   "outputs": [],
   "source": [
    "import os\n",
    "os.environ['KMP_DUPLICATE_LIB_OK']='True'"
   ]
  },
  {
   "cell_type": "code",
   "execution_count": 8,
   "metadata": {},
   "outputs": [],
   "source": [
    "labels_map = {\n",
    "    0: \"T-Shirt\",\n",
    "    1: \"Trouser\",\n",
    "    2: \"Pullover\",\n",
    "    3: \"Dress\",\n",
    "    4: \"Coat\",\n",
    "    5: \"Sandal\",\n",
    "    6: \"Shirt\",\n",
    "    7: \"Sneaker\",\n",
    "    8: \"Bag\",\n",
    "    9: \"Ankle Boot\",\n",
    "}"
   ]
  },
  {
   "cell_type": "code",
   "execution_count": 12,
   "metadata": {},
   "outputs": [
    {
     "data": {
      "image/png": "[encoded data removed]",
      "text/plain": [
       "<Figure size 576x576 with 9 Axes>"
      ]
     },
     "metadata": {
      "needs_background": "light"
     },
     "output_type": "display_data"
    }
   ],
   "source": [
    "figure = plt.figure(figsize=(8, 8))\n",
    "cols, rows = 3, 3\n",
    "for i in range(1, cols*rows + 1):\n",
    "    # случайным образом выбириаем какой-нибудь объект из выборки\n",
    "    sample_idx = torch.randint(len(training_data), size=(1,)).item()\n",
    "    img, label = training_data[sample_idx]\n",
    "    figure.add_subplot(rows, cols, i)\n",
    "    plt.title(labels_map[label])\n",
    "    plt.axis('off')\n",
    "    plt.imshow(img.squeeze(), cmap=\"gray\")\n",
    "plt.show()"
   ]
  },
  {
   "cell_type": "markdown",
   "metadata": {},
   "source": [
    "..\n",
    " .. figure:: /_static/img/basics/fashion_mnist.png\n",
    "   :alt: fashion_mnist\n",
    "\n"
   ]
  },
  {
   "cell_type": "markdown",
   "metadata": {},
   "source": [
    "--------------\n",
    "\n",
    "\n"
   ]
  },
  {
   "cell_type": "markdown",
   "metadata": {},
   "source": [
    "Создание собственного кастомного датасета\n",
    "---------------------------------------------------\n",
    "\n",
    "Для создания нового кастомного Dataset класса необходимо обязательно реализовать три функции:\n",
    "\n",
    "1. `__init__`\n",
    "2. `__len__`\n",
    "3. `__getitem__`\n",
    "\n",
    "Ниже представлен пример. Изображения FashionMNIST хранятся в каталоге `img_dir`, а их метки хранятся отдельно в CSV-файле `annotations_file`."
   ]
  },
  {
   "cell_type": "code",
   "execution_count": null,
   "metadata": {},
   "outputs": [],
   "source": [
    "import os\n",
    "import pandas as pd\n",
    "from torchvision.io import read_image\n",
    "\n",
    "class CustomImageDataset(Dataset):\n",
    "    def __init__(self, annotations_file, img_dir, transform=None, target_transform=None):\n",
    "        # таблица, название файла - метка \n",
    "        self.img_labels = pd.read_csv(annotations_file)\n",
    "        # папка с изображениями\n",
    "        self.img_dir = img_dir\n",
    "        self.transform = transform\n",
    "        self.target_transform = target_transform\n",
    "\n",
    "    def __len__(self):\n",
    "        return len(self.img_labels)\n",
    "\n",
    "    def __getitem__(self, idx):\n",
    "        img_path = os.path.join(self.img_dir, self.img_labels.iloc[idx, 0])\n",
    "        image = read_image(img_path)\n",
    "        label = self.img_labels.iloc[idx, 1]\n",
    "        if self.transform:\n",
    "            image = self.transform(image)\n",
    "        if self.target_transform:\n",
    "            label = self.target_transform(label)\n",
    "        return image, label"
   ]
  },
  {
   "cell_type": "markdown",
   "metadata": {},
   "source": [
    "Функция __init__ запускается один раз при создании экземпляра класса. Мы инициализируем каталог, содержащий изображения, файл с метками и оба преобразования (подробнее в ноутбуке ***04_transforms_tutorial***).\n",
    "\n",
    "Содержимое labels.csv выглядит так:\n",
    "\n",
    "    tshirt1.jpg, 0\n",
    "    tshirt2.jpg, 0\n",
    "    ......\n",
    "    ankleboot999.jpg, 9\n"
   ]
  },
  {
   "cell_type": "code",
   "execution_count": 16,
   "metadata": {},
   "outputs": [],
   "source": [
    "def __init__(self, annotations_file, img_dir, transform=None, target_transform=None):\n",
    "    self.img_labels = pd.read_csv(annotations_file)\n",
    "    self.img_dir = img_dir\n",
    "    self.transform = transform\n",
    "    self.target_transform = target_transform"
   ]
  },
  {
   "cell_type": "markdown",
   "metadata": {},
   "source": [
    "Функция __len__ возвращает количество объектов в датасете.\n",
    "\n",
    "Пример:"
   ]
  },
  {
   "cell_type": "code",
   "execution_count": 17,
   "metadata": {},
   "outputs": [],
   "source": [
    "def __len__(self):\n",
    "    return len(self.img_labels)"
   ]
  },
  {
   "cell_type": "markdown",
   "metadata": {},
   "source": [
    "Функция __getitem__ загружает и возвращает один объект выборки с заданным индексом ``idx``.\n",
    "\n",
    "На основе индекса происходит идентификация изображения на диске, затем изображение конвертируется в тензор с помощью ``read_image``, извлекается соотстветствующая метка для изображения и вызывается функция преобразования (если она имеется). По итогу возвращается кортеж из изображения в виде тензора и метки."
   ]
  },
  {
   "cell_type": "code",
   "execution_count": 18,
   "metadata": {},
   "outputs": [],
   "source": [
    "def __getitem__(self, idx):\n",
    "    img_path = os.path.join(self.img_dir, self.img_labels.iloc[idx, 0])\n",
    "    image = read_image(img_path)\n",
    "    label = self.img_labels.iloc[idx, 1]\n",
    "    if self.transform:\n",
    "        image = self.transform(image)\n",
    "    if self.target_transform:\n",
    "        label = self.target_transform(label)\n",
    "    return image, label"
   ]
  },
  {
   "cell_type": "markdown",
   "metadata": {},
   "source": [
    "--------------\n",
    "\n",
    "\n"
   ]
  },
  {
   "cell_type": "markdown",
   "metadata": {},
   "source": [
    "Подготовка ваших данных для обучения с DataLoaders\n",
    "-------------------------------------------------\n",
    "\n",
    "``Dataset`` извлекает признаки и метки одного объекта за один раз. При обучении модели, мы обычно хотим отправлять объекты батчами (минипакетами), перетасовывать данные каждую эпоху, дабы уменьшить вероятность переобучения модели и использовать \"многопроцессорную обработку\" Python для ускорения поиска данных.\n",
    "\n",
    "``DataLoader`` - итерируемый объект, который абстрагирует описанную выше сложнсть для нас в простом API. Объекты датасета разбиваются на батчи и получается, что DataLoader это контейнер батчей. "
   ]
  },
  {
   "cell_type": "code",
   "execution_count": 19,
   "metadata": {},
   "outputs": [],
   "source": [
    "# Используем Dataset выборки в DataLoader\n",
    "from torch.utils.data import DataLoader\n",
    "\n",
    "batch_size = 64\n",
    "train_dataloader = DataLoader(training_data, batch_size=batch_size, shuffle=True)\n",
    "test_dataloader = DataLoader(test_data, batch_size=batch_size, shuffle=True)"
   ]
  },
  {
   "cell_type": "code",
   "execution_count": 24,
   "metadata": {},
   "outputs": [
    {
     "data": {
      "text/plain": [
       "Dataset FashionMNIST\n",
       "    Number of datapoints: 60000\n",
       "    Root location: data\n",
       "    Split: Train\n",
       "    StandardTransform\n",
       "Transform: ToTensor()"
      ]
     },
     "execution_count": 24,
     "metadata": {},
     "output_type": "execute_result"
    }
   ],
   "source": [
    "train_dataloader.dataset"
   ]
  },
  {
   "cell_type": "code",
   "execution_count": 34,
   "metadata": {
    "scrolled": true
   },
   "outputs": [
    {
     "data": {
      "text/plain": [
       "938"
      ]
     },
     "execution_count": 34,
     "metadata": {},
     "output_type": "execute_result"
    }
   ],
   "source": [
    "len(train_dataloader)"
   ]
  },
  {
   "cell_type": "code",
   "execution_count": 35,
   "metadata": {
    "scrolled": true
   },
   "outputs": [
    {
     "data": {
      "text/plain": [
       "60032"
      ]
     },
     "execution_count": 35,
     "metadata": {},
     "output_type": "execute_result"
    }
   ],
   "source": [
    "len(train_dataloader) * batch_size"
   ]
  },
  {
   "cell_type": "markdown",
   "metadata": {},
   "source": [
    "Итерирование с помощью  DataLoader\n",
    "--------------------------\n",
    "\n",
    "\n",
    "Мы загрузили датасет в ``DataLoader`` и теперь может перебирать данные датасета по мере необходимости.\n",
    "\n",
    "Каждая приведенная ниже итерация возвращает батч train_features и train_labels (содержащий ``batch_size=64`` признаков и меток соответственно).\n",
    "\n",
    "Поскольку мы указали ``shuffle=True``, после того, как мы перебираем все пакеты, данные перемешиваются (для более точного управления порядком загрузки данных взгляните на `Samplers` <https://pytorch.org/docs/stable/data.html#data-loading-order-and-sampler>)."
   ]
  },
  {
   "cell_type": "code",
   "execution_count": 37,
   "metadata": {},
   "outputs": [
    {
     "name": "stdout",
     "output_type": "stream",
     "text": [
      "Feature batch shape: torch.Size([64, 1, 28, 28])\n",
      "Labels batch shape: torch.Size([64])\n"
     ]
    },
    {
     "data": {
      "image/png": "[encoded data removed]",
      "text/plain": [
       "<Figure size 432x288 with 1 Axes>"
      ]
     },
     "metadata": {
      "needs_background": "light"
     },
     "output_type": "display_data"
    },
    {
     "name": "stdout",
     "output_type": "stream",
     "text": [
      "Label: 6\n"
     ]
    }
   ],
   "source": [
    "# Визуализация изображения и метки.\n",
    "train_features, train_labels = next(iter(train_dataloader))\n",
    "print(f\"Feature batch shape: {train_features.size()}\")\n",
    "print(f\"Labels batch shape: {train_labels.size()}\")\n",
    "img = train_features[0].squeeze()\n",
    "label = train_labels[0]\n",
    "plt.imshow(img, cmap=\"gray\")\n",
    "plt.show()\n",
    "print(f\"Label: {label}\")"
   ]
  },
  {
   "cell_type": "markdown",
   "metadata": {},
   "source": [
    "--------------\n",
    "\n",
    "\n"
   ]
  },
  {
   "cell_type": "markdown",
   "metadata": {},
   "source": [
    "Для изучения\n",
    "--------------\n",
    "- torch.utils.data API https://pytorch.org/docs/stable/data.html\n",
    "\n"
   ]
  },
  {
   "cell_type": "markdown",
   "metadata": {},
   "source": [
    "---"
   ]
  }
 ],
 "metadata": {
  "kernelspec": {
   "display_name": "Python 3 (ipykernel)",
   "language": "python",
   "name": "python3"
  },
  "language_info": {
   "codemirror_mode": {
    "name": "ipython",
    "version": 3
   },
   "file_extension": ".py",
   "mimetype": "text/x-python",
   "name": "python",
   "nbconvert_exporter": "python",
   "pygments_lexer": "ipython3",
   "version": "3.9.12"
  }
 },
 "nbformat": 4,
 "nbformat_minor": 1
}
