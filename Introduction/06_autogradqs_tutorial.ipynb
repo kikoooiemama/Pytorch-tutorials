{
 "cells": [
  {
   "cell_type": "markdown",
   "metadata": {},
   "source": [
    "Автоматическое дифференцирование с ``torch.autograd``\n",
    "=======================================\n",
    "\n",
    "\n",
    "При обучении нейронных сетей чаще всего используется метод **Обратного распространения ошибки**. В данном алгоритме параметры (веса) настраиваются в соответствие с **градиентом** функции потерь по заданному параметру. \n",
    "\n",
    "Для расчета градиентов функции ошибки PyTorch имеет встроенный механизм дифференциации под названием ``torch.autograd``. Механизм поддерживает автоматическое вычисление градиента для любого вычисленного графа.\n",
    "\n",
    "Рассмотрим простейшую однослойную нейронную сеть с входными данными ``x``, параметрами ``w`` и ``b``, а также с некоторой функцией потерь. Данную нейронную сеть в PyTorch можно реализовать следующим образом:"
   ]
  },
  {
   "cell_type": "code",
   "execution_count": 4,
   "metadata": {},
   "outputs": [],
   "source": [
    "import torch"
   ]
  },
  {
   "cell_type": "code",
   "execution_count": 5,
   "metadata": {},
   "outputs": [],
   "source": [
    "x = torch.ones(5) # входные данные\n",
    "y = torch.zeros(3) # ожидаемые выходные данные\n",
    "w = torch.randn(5, 3, requires_grad=True)\n",
    "b = torch.randn(3, requires_grad=True)\n",
    "z = torch.matmul(x, w) + b # линейная модель, прогноз\n",
    "loss = torch.nn.functional.binary_cross_entropy_with_logits(z, y)"
   ]
  },
  {
   "cell_type": "code",
   "execution_count": 6,
   "metadata": {},
   "outputs": [
    {
     "name": "stdout",
     "output_type": "stream",
     "text": [
      "Loss: 0.6736685633659363\n"
     ]
    }
   ],
   "source": [
    "print(f\"Loss: {loss}\")"
   ]
  },
  {
   "cell_type": "markdown",
   "metadata": {},
   "source": [
    "Тензоры, функции и вычислительный граф\n",
    "------------------------------------------\n",
    "\n",
    "Код, представленный выше, определяет следующий **computational graph**:\n",
    "\n",
    "<img src=\"images/comp-graph.png\" alt=\"image info\" />\n",
    "\n",
    "В этой сети параметры ``w`` и ``b`` нужно оптимизировать. Таким образом, нам нужно иметь возможность вычислять градиенты функции потерь по отношению к этим переменным. Для этого мы и устанавливаем ``requires_grad=True`` конкретно у ЭТИХ ТЕНЗОРОВ."
   ]
  },
  {
   "cell_type": "markdown",
   "metadata": {},
   "source": [
    "<div class=\"alert alert-info\"><h4>Примечание</h4><p>Вы можете установить значение ``requires_grad`` при создании тензора или позже, используя метод ``x.requires_grad_(True)``.</p></div>"
   ]
  },
  {
   "cell_type": "markdown",
   "metadata": {},
   "source": [
    "Функция, которую мы применяем к тензорам для построения вычислительного графа, на самом деле является объектом класса ``Function``.\n",
    "\n",
    "Этот объект знает, как вычислить функцию в направлении *forward*, а также как вычислить ее производную на шаге *backward propagation* (обратное распространение ошибки).\n",
    "\n",
    "Ссылка на функцию \"обратного распространения ошибки\" хранится в свойстве ``grad_fn`` тензора. \n",
    "\n",
    "Дополнительную информацию о ``Function`` можно найти в https://pytorch.org/docs/stable/autograd.html#function."
   ]
  },
  {
   "cell_type": "code",
   "execution_count": 7,
   "metadata": {},
   "outputs": [
    {
     "name": "stdout",
     "output_type": "stream",
     "text": [
      "Gradient function for z = <AddBackward0 object at 0x000001C93D6FE580>\n",
      "Gradient function for loss = <BinaryCrossEntropyWithLogitsBackward object at 0x000001C93D6405E0>\n"
     ]
    }
   ],
   "source": [
    "print(f\"Gradient function for z = {z.grad_fn}\")\n",
    "print(f\"Gradient function for loss = {loss.grad_fn}\")"
   ]
  },
  {
   "cell_type": "markdown",
   "metadata": {},
   "source": [
    "Вычисление градиентов\n",
    "-------------------\n",
    "\n",
    "Для оптимизации весов нам нужно вычислить производные нашей функции потерь по ``w`` и ``b``, а именно нам нужны\n",
    "\n",
    "$$\\frac{\\partial loss}{\\partial w}$$\n",
    "\n",
    "$$\\frac{\\partial loss}{\\partial b}$$\n",
    "\n",
    "при некоторых фиксированных значениях ``x`` и ``y``. \n",
    "\n",
    "Чтобы вычислить эти производные, нужно вызвать ``loss.backward()``, а затем извлечь значения из ``w.grad`` и ``b.grad``:"
   ]
  },
  {
   "cell_type": "code",
   "execution_count": 8,
   "metadata": {},
   "outputs": [],
   "source": [
    "loss.backward()"
   ]
  },
  {
   "cell_type": "code",
   "execution_count": 9,
   "metadata": {},
   "outputs": [
    {
     "name": "stdout",
     "output_type": "stream",
     "text": [
      "tensor([[0.0883, 0.2289, 0.1415],\n",
      "        [0.0883, 0.2289, 0.1415],\n",
      "        [0.0883, 0.2289, 0.1415],\n",
      "        [0.0883, 0.2289, 0.1415],\n",
      "        [0.0883, 0.2289, 0.1415]])\n",
      "tensor([0.0883, 0.2289, 0.1415])\n"
     ]
    }
   ],
   "source": [
    "print(w.grad)\n",
    "print(b.grad)"
   ]
  },
  {
   "cell_type": "markdown",
   "metadata": {},
   "source": [
    "<div class=\"alert alert-info\"><h4>Примечание</h4><p>\n",
    "1. Мы можем получить свойства ``grad`` только для листовых узлов вычислительного графа, у которых свойство ``requires_grad`` установлено в ``True``. Для всех остальных узлов нашего графа градиенты будут недоступны.<br>2. Мы можем выполнять вычисления градиента тоьлко один раз в обратном направлении на заданном графе из соображений производительности. Если нам нужно сделать несколько ``backward` колов на одном и том же графе, то в таком случае необходимо передать ``retain_graph=True`` при вызове ``backward``.\n",
    "</p></div>"
   ]
  },
  {
   "cell_type": "markdown",
   "metadata": {},
   "source": [
    "Отключение трекинг градиента (disable gradient tracking)\n",
    "---------------------------\n",
    "\n",
    "По-умолчанию все тензоры с параметром ``requires_grad=True`` отслеживают историю своих вычислений и поддерживают вычисление градиента. Однако, бывают случаи, когда нам этого делать не нужно. Например, когда мы обучили модель и просто хотим применить ее к каким-то входным данным, т.е. мы хотим делать только прямые (forward) вычисления по сетке. Мы можем остановить отслеживание вычислений, окружив наш вычислитеьлный код блоком ``torch.no_grad()``."
   ]
  },
  {
   "cell_type": "code",
   "execution_count": 10,
   "metadata": {
    "scrolled": true
   },
   "outputs": [
    {
     "name": "stdout",
     "output_type": "stream",
     "text": [
      "True\n"
     ]
    }
   ],
   "source": [
    "z = torch.matmul(x, w) + b\n",
    "print(z.requires_grad)"
   ]
  },
  {
   "cell_type": "code",
   "execution_count": 11,
   "metadata": {},
   "outputs": [
    {
     "name": "stdout",
     "output_type": "stream",
     "text": [
      "False\n"
     ]
    }
   ],
   "source": [
    "with torch.no_grad():\n",
    "    z = torch.matmul(x, w) + b\n",
    "print(z.requires_grad)"
   ]
  },
  {
   "cell_type": "markdown",
   "metadata": {},
   "source": [
    "Другой способ добиться того же результата - применить ``detach()`` метод на тензор:"
   ]
  },
  {
   "cell_type": "code",
   "execution_count": 12,
   "metadata": {},
   "outputs": [
    {
     "name": "stdout",
     "output_type": "stream",
     "text": [
      "False\n"
     ]
    }
   ],
   "source": [
    "z = torch.matmul(x, w) + b\n",
    "z_det = z.detach()\n",
    "print(z_det.requires_grad)"
   ]
  },
  {
   "cell_type": "markdown",
   "metadata": {},
   "source": [
    "Причины для отключения **gradient tracking**:\n",
    "  - Для тонкой настройки предварительно обученой сетки: `finetuning a pretrained network`. То есть помечаем некоторые параметры (веса) нейронки как **замароженные**, замораживаем веса. Советую почитать об этом здесь: https://pytorch.org/tutorials/beginner/finetuning_torchvision_models_tutorial.html\n",
    "  \n",
    "  - Чтобы ускорить вычисления, когда мы делаем только `forward` прямой проход, поскольку вычисления на тензорах с gradient tracking менее эффективно, чем без него. Например, когда мы обучили модель и просто хотим применить ее к каким-то входным данным."
   ]
  },
  {
   "cell_type": "markdown",
   "metadata": {},
   "source": [
    "Подробнее о вычислительных графах\n",
    "----------------------------\n",
    "\n",
    "Концептуально, autograd ведет запись данных (тензоров) и всех выполненных операций (вместе с полученными новыми тензорами) в ориентированном ациклическом графе (DAG, directed acyclic graph), состоящем из `Function` объектов. https://pytorch.org/docs/stable/autograd.html#torch.autograd.Function\n",
    "\n",
    "В графе DAG листья - это входные тензоры, а корни - выходные тензоры. Проследив этот граф от корней до листьев, вы можете автоматически вычислить градиенты, используя цепное правило (chain rule).\n",
    "\n",
    "При прямом проходе (forward) autograd делает две вещи одновременно:\n",
    "\n",
    "- запуск запрашиваемой операции чтобы расчитать результирующий тензор,\n",
    "- поддерживает *функцию градиента* в DAG.\n",
    "\n",
    "Обратный проход (backward) вызывается в корне DAG. \n",
    "``autograd`` тогда:\n",
    "\n",
    "- вычисляет градиенты из каждого ``.grad_fn``,\n",
    "- накапливает их в атрибуте ``.grad`` соответствующего тензора,\n",
    "- по цепному правилу распространяется до листовых тензоров.\n",
    "\n",
    "<div class=\"alert alert-info\"><h4>Примечание</h4><p>Графы DAG являются динамическими в PyTorch<br><br> Важно отметить, что граф воссоздается с нуля. После каждого вызова ``.backward()``, autograd начинает заполнять новый граф. Это именно то, что позволяет нам использовать операторы потока управления (control flow statements) в вашей модели. Вы можете изменять форму, размер и операции на каждой итерации, если это необходимо.\n",
    "</p></div>\n",
    "\n"
   ]
  },
  {
   "cell_type": "markdown",
   "metadata": {},
   "source": [
    "Дополнительно: Тензорные градиенты и матрица Якоби\n",
    "--------------------------------------\n",
    "\n",
    "Во многих случаях у нас есть скалярная функция потерь, и нам нужно вычислить градиент по некоторым параметрам. Однако бывают случаи, когда выходная функция является произвольным тензором. В этом случае PyTorch позволяет вычислить так называемы, а не фактический градиент.\n",
    "Для вектор функции $\\vec{y}=f(\\vec{x})$, где \n",
    "$\\vec{x}=\\langle x_1,\\dots,x_n\\rangle$ и \n",
    "$\\vec{y}=\\langle y_1,\\dots,y_m\\rangle$,\n",
    "градиент $\\vec{y}$ по отношению к $\\vec{x}$ даст **произведение Якоби**:\n",
    "\n",
    "\\begin{align}J=\\left(\\begin{array}{ccc}\n",
    "      \\frac{\\partial y_{1}}{\\partial x_{1}} & \\cdots & \\frac{\\partial y_{1}}{\\partial x_{n}}\\\\\n",
    "      \\vdots & \\ddots & \\vdots\\\\\n",
    "      \\frac{\\partial y_{m}}{\\partial x_{1}} & \\cdots & \\frac{\\partial y_{m}}{\\partial x_{n}}\n",
    "      \\end{array}\\right)\\end{align}\n",
    "      \n",
    "      \n",
    "Вместо того, чтобы вычислять саму матрицу Якоби, PyTorch позволяет вычислить **Произведение Якоби**: $v^T\\cdot J$ для заданного входного вектора $v=(v_1 \\dots v_m)$. Это достигается вызовом ``backward`` с $v$ в качестве аргумента. \n",
    "\n",
    "Размер $v$ должен быть таким же, как размер исходного тензора, относительного которого мы хотим вычислить произведение Якоби:"
   ]
  },
  {
   "cell_type": "code",
   "execution_count": 23,
   "metadata": {},
   "outputs": [
    {
     "name": "stdout",
     "output_type": "stream",
     "text": [
      "First call\n",
      "tensor([[4., 2., 2., 2., 2.],\n",
      "        [2., 4., 2., 2., 2.],\n",
      "        [2., 2., 4., 2., 2.],\n",
      "        [2., 2., 2., 4., 2.],\n",
      "        [2., 2., 2., 2., 4.]])\n",
      "\n",
      "Second call\n",
      "tensor([[8., 4., 4., 4., 4.],\n",
      "        [4., 8., 4., 4., 4.],\n",
      "        [4., 4., 8., 4., 4.],\n",
      "        [4., 4., 4., 8., 4.],\n",
      "        [4., 4., 4., 4., 8.]])\n"
     ]
    }
   ],
   "source": [
    "inp = torch.eye(5, requires_grad=True)\n",
    "out = (inp+1).pow(2)\n",
    "out.backward(torch.ones_like(inp), retain_graph=True)\n",
    "print(f\"First call\\n{inp.grad}\")\n",
    "out.backward(torch.ones_like(inp), retain_graph=True)\n",
    "print(f\"\\nSecond call\\n{inp.grad}\")"
   ]
  },
  {
   "cell_type": "code",
   "execution_count": 24,
   "metadata": {
    "scrolled": true
   },
   "outputs": [
    {
     "name": "stdout",
     "output_type": "stream",
     "text": [
      "\n",
      "Call after zeroing gradients\n",
      "tensor([[4., 2., 2., 2., 2.],\n",
      "        [2., 4., 2., 2., 2.],\n",
      "        [2., 2., 4., 2., 2.],\n",
      "        [2., 2., 2., 4., 2.],\n",
      "        [2., 2., 2., 2., 4.]])\n"
     ]
    }
   ],
   "source": [
    "inp.grad.zero_()\n",
    "out.backward(torch.ones_like(inp), retain_graph=True)\n",
    "print(f\"\\nCall after zeroing gradients\\n{inp.grad}\")"
   ]
  },
  {
   "cell_type": "markdown",
   "metadata": {},
   "source": [
    "Обратите внимание, что когда мы вызываем обратную функцию во второй раз с одним и тем же аргументом, значение аргумента отличается! Почему так? Это происходит потому что при обратном распространении ошибки PyTorch накапливает градиенты, т.е. значение вычисленных градиентов добавляется к свойству `grad` всех листовых узлов вычислительного графа. Если вы хотите вычислить правильные градиенты (без учета накопления), то нужно перед этим обнулить свойство `grad`. В реальном обучении модели нам в этом помогает **оптимизатор**."
   ]
  },
  {
   "cell_type": "markdown",
   "metadata": {},
   "source": [
    "<div class=\"alert alert-info\"><h4>Примечание</h4><p>Ранее мы всегда вызывали функцию ``backward()`` без параметров. По сути, это эквивалентно вызову ``backward(torch.tensor(1.0))``, который является полезным способом вычисления градиентов в случае скалярной функции, такой как `loss` во время обучения нейронной сети.\n",
    "</p></div>\n",
    "\n",
    "\n"
   ]
  },
  {
   "cell_type": "markdown",
   "metadata": {},
   "source": [
    "--------------"
   ]
  },
  {
   "cell_type": "markdown",
   "metadata": {},
   "source": [
    "#### Для подробного ознакомления\n",
    "\n",
    "`Autograd Mechanics` https://pytorch.org/docs/stable/notes/autograd.html"
   ]
  },
  {
   "cell_type": "markdown",
   "metadata": {},
   "source": [
    "---"
   ]
  }
 ],
 "metadata": {
  "kernelspec": {
   "display_name": "Python 3 (ipykernel)",
   "language": "python",
   "name": "python3"
  },
  "language_info": {
   "codemirror_mode": {
    "name": "ipython",
    "version": 3
   },
   "file_extension": ".py",
   "mimetype": "text/x-python",
   "name": "python",
   "nbconvert_exporter": "python",
   "pygments_lexer": "ipython3",
   "version": "3.9.12"
  }
 },
 "nbformat": 4,
 "nbformat_minor": 1
}
